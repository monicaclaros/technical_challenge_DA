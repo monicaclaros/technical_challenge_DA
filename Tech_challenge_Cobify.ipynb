{
 "cells": [
  {
   "cell_type": "code",
   "execution_count": 92,
   "id": "6a5888c8",
   "metadata": {},
   "outputs": [],
   "source": [
    "# Librerías para el manejo y análisis de datos \n",
    "import pandas as pd\n",
    "import numpy as np\n",
    "import matplotlib.pyplot as plt\n",
    "import seaborn as sns\n",
    "import plotly.express as px\n",
    "import plotly.graph_objects as go\n",
    "import plotly.colors as colors\n",
    "import matplotlib.cm as cm\n",
    "import plotly.io as pio\n",
    "from plotly.subplots import make_subplots\n",
    "from plotly.subplots import make_subplots\n",
    "from scipy.stats import pearsonr\n",
    "from mpl_toolkits.mplot3d import Axes3D"
   ]
  },
  {
   "cell_type": "code",
   "execution_count": 93,
   "id": "0ba3f339",
   "metadata": {},
   "outputs": [],
   "source": [
    "data=pd.read_excel(r'./data/measurements2.xlsx')\n"
   ]
  },
  {
   "cell_type": "code",
   "execution_count": 94,
   "id": "ca02ef5d",
   "metadata": {},
   "outputs": [],
   "source": [
    "x = df.iloc[:,[0,2,3,4,5,6,7,8,9]]\n",
    "y = df.iloc[:,1]"
   ]
  },
  {
   "cell_type": "code",
   "execution_count": 95,
   "id": "1565bfdc",
   "metadata": {},
   "outputs": [
    {
     "name": "stderr",
     "output_type": "stream",
     "text": [
      "/var/folders/sw/ywfjlc8d22902gxr8wwrsfnw0000gn/T/ipykernel_79475/2901902821.py:2: SettingWithCopyWarning:\n",
      "\n",
      "\n",
      "A value is trying to be set on a copy of a slice from a DataFrame.\n",
      "Try using .loc[row_indexer,col_indexer] = value instead\n",
      "\n",
      "See the caveats in the documentation: https://pandas.pydata.org/pandas-docs/stable/user_guide/indexing.html#returning-a-view-versus-a-copy\n",
      "\n"
     ]
    }
   ],
   "source": [
    "#  buscar y reemplazar datos NaN por 0\n",
    "x.loc[:,['specials']] = x.loc[:,['specials']].fillna(' ')"
   ]
  },
  {
   "cell_type": "code",
   "execution_count": 96,
   "id": "d5af690b",
   "metadata": {},
   "outputs": [
    {
     "data": {
      "image/png": "[encoded data removed]",
      "text/plain": [
       "<Figure size 1400x1000 with 1 Axes>"
      ]
     },
     "metadata": {},
     "output_type": "display_data"
    }
   ],
   "source": [
    "# Gas \n",
    "used_gas = data.groupby('gas_type').size().reset_index(name='n')\n",
    "\n",
    "plt.figure(figsize=(14, 10))\n",
    "sns.barplot(data=used_gas, x='gas_type', y='n', palette='Spectral')\n",
    "plt.xticks(rotation=45, size=15)\n",
    "plt.xlabel('Gas Type')\n",
    "plt.ylabel('Count')\n",
    "plt.title('Uso de Gas')\n",
    "\n",
    "plt.show()\n"
   ]
  },
  {
   "cell_type": "code",
   "execution_count": 97,
   "id": "a148492f",
   "metadata": {},
   "outputs": [
    {
     "data": {
      "application/vnd.plotly.v1+json": {
       "config": {
        "plotlyServerURL": "https://plot.ly"
       },
       "data": [
        {
         "alignmentgroup": "True",
         "hovertemplate": "gas_type=%{x}<br>n=%{marker.color}<extra></extra>",
         "legendgroup": "",
         "marker": {
          "color": [
           160,
           228
          ],
          "coloraxis": "coloraxis",
          "pattern": {
           "shape": ""
          }
         },
         "name": "",
         "offsetgroup": "",
         "orientation": "v",
         "showlegend": false,
         "textposition": "auto",
         "type": "bar",
         "x": [
          "E10",
          "SP98"
         ],
         "xaxis": "x",
         "y": [
          160,
          228
         ],
         "yaxis": "y"
        }
       ],
       "layout": {
        "barmode": "relative",
        "coloraxis": {
         "colorbar": {
          "title": {
           "text": "n"
          }
         },
         "colorscale": [
          [
           0,
           "rgb(158,1,66)"
          ],
          [
           0.1,
           "rgb(213,62,79)"
          ],
          [
           0.2,
           "rgb(244,109,67)"
          ],
          [
           0.3,
           "rgb(253,174,97)"
          ],
          [
           0.4,
           "rgb(254,224,139)"
          ],
          [
           0.5,
           "rgb(255,255,191)"
          ],
          [
           0.6,
           "rgb(230,245,152)"
          ],
          [
           0.7,
           "rgb(171,221,164)"
          ],
          [
           0.8,
           "rgb(102,194,165)"
          ],
          [
           0.9,
           "rgb(50,136,189)"
          ],
          [
           1,
           "rgb(94,79,162)"
          ]
         ]
        },
        "legend": {
         "tracegroupgap": 0
        },
        "template": {
         "data": {
          "bar": [
           {
            "error_x": {
             "color": "#2a3f5f"
            },
            "error_y": {
             "color": "#2a3f5f"
            },
            "marker": {
             "line": {
              "color": "#E5ECF6",
              "width": 0.5
             },
             "pattern": {
              "fillmode": "overlay",
              "size": 10,
              "solidity": 0.2
             }
            },
            "type": "bar"
           }
          ],
          "barpolar": [
           {
            "marker": {
             "line": {
              "color": "#E5ECF6",
              "width": 0.5
             },
             "pattern": {
              "fillmode": "overlay",
              "size": 10,
              "solidity": 0.2
             }
            },
            "type": "barpolar"
           }
          ],
          "carpet": [
           {
            "aaxis": {
             "endlinecolor": "#2a3f5f",
             "gridcolor": "white",
             "linecolor": "white",
             "minorgridcolor": "white",
             "startlinecolor": "#2a3f5f"
            },
            "baxis": {
             "endlinecolor": "#2a3f5f",
             "gridcolor": "white",
             "linecolor": "white",
             "minorgridcolor": "white",
             "startlinecolor": "#2a3f5f"
            },
            "type": "carpet"
           }
          ],
          "choropleth": [
           {
            "colorbar": {
             "outlinewidth": 0,
             "ticks": ""
            },
            "type": "choropleth"
           }
          ],
          "contour": [
           {
            "colorbar": {
             "outlinewidth": 0,
             "ticks": ""
            },
            "colorscale": [
             [
              0,
              "#0d0887"
             ],
             [
              0.1111111111111111,
              "#46039f"
             ],
             [
              0.2222222222222222,
              "#7201a8"
             ],
             [
              0.3333333333333333,
              "#9c179e"
             ],
             [
              0.4444444444444444,
              "#bd3786"
             ],
             [
              0.5555555555555556,
              "#d8576b"
             ],
             [
              0.6666666666666666,
              "#ed7953"
             ],
             [
              0.7777777777777778,
              "#fb9f3a"
             ],
             [
              0.8888888888888888,
              "#fdca26"
             ],
             [
              1,
              "#f0f921"
             ]
            ],
            "type": "contour"
           }
          ],
          "contourcarpet": [
           {
            "colorbar": {
             "outlinewidth": 0,
             "ticks": ""
            },
            "type": "contourcarpet"
           }
          ],
          "heatmap": [
           {
            "colorbar": {
             "outlinewidth": 0,
             "ticks": ""
            },
            "colorscale": [
             [
              0,
              "#0d0887"
             ],
             [
              0.1111111111111111,
              "#46039f"
             ],
             [
              0.2222222222222222,
              "#7201a8"
             ],
             [
              0.3333333333333333,
              "#9c179e"
             ],
             [
              0.4444444444444444,
              "#bd3786"
             ],
             [
              0.5555555555555556,
              "#d8576b"
             ],
             [
              0.6666666666666666,
              "#ed7953"
             ],
             [
              0.7777777777777778,
              "#fb9f3a"
             ],
             [
              0.8888888888888888,
              "#fdca26"
             ],
             [
              1,
              "#f0f921"
             ]
            ],
            "type": "heatmap"
           }
          ],
          "heatmapgl": [
           {
            "colorbar": {
             "outlinewidth": 0,
             "ticks": ""
            },
            "colorscale": [
             [
              0,
              "#0d0887"
             ],
             [
              0.1111111111111111,
              "#46039f"
             ],
             [
              0.2222222222222222,
              "#7201a8"
             ],
             [
              0.3333333333333333,
              "#9c179e"
             ],
             [
              0.4444444444444444,
              "#bd3786"
             ],
             [
              0.5555555555555556,
              "#d8576b"
             ],
             [
              0.6666666666666666,
              "#ed7953"
             ],
             [
              0.7777777777777778,
              "#fb9f3a"
             ],
             [
              0.8888888888888888,
              "#fdca26"
             ],
             [
              1,
              "#f0f921"
             ]
            ],
            "type": "heatmapgl"
           }
          ],
          "histogram": [
           {
            "marker": {
             "pattern": {
              "fillmode": "overlay",
              "size": 10,
              "solidity": 0.2
             }
            },
            "type": "histogram"
           }
          ],
          "histogram2d": [
           {
            "colorbar": {
             "outlinewidth": 0,
             "ticks": ""
            },
            "colorscale": [
             [
              0,
              "#0d0887"
             ],
             [
              0.1111111111111111,
              "#46039f"
             ],
             [
              0.2222222222222222,
              "#7201a8"
             ],
             [
              0.3333333333333333,
              "#9c179e"
             ],
             [
              0.4444444444444444,
              "#bd3786"
             ],
             [
              0.5555555555555556,
              "#d8576b"
             ],
             [
              0.6666666666666666,
              "#ed7953"
             ],
             [
              0.7777777777777778,
              "#fb9f3a"
             ],
             [
              0.8888888888888888,
              "#fdca26"
             ],
             [
              1,
              "#f0f921"
             ]
            ],
            "type": "histogram2d"
           }
          ],
          "histogram2dcontour": [
           {
            "colorbar": {
             "outlinewidth": 0,
             "ticks": ""
            },
            "colorscale": [
             [
              0,
              "#0d0887"
             ],
             [
              0.1111111111111111,
              "#46039f"
             ],
             [
              0.2222222222222222,
              "#7201a8"
             ],
             [
              0.3333333333333333,
              "#9c179e"
             ],
             [
              0.4444444444444444,
              "#bd3786"
             ],
             [
              0.5555555555555556,
              "#d8576b"
             ],
             [
              0.6666666666666666,
              "#ed7953"
             ],
             [
              0.7777777777777778,
              "#fb9f3a"
             ],
             [
              0.8888888888888888,
              "#fdca26"
             ],
             [
              1,
              "#f0f921"
             ]
            ],
            "type": "histogram2dcontour"
           }
          ],
          "mesh3d": [
           {
            "colorbar": {
             "outlinewidth": 0,
             "ticks": ""
            },
            "type": "mesh3d"
           }
          ],
          "parcoords": [
           {
            "line": {
             "colorbar": {
              "outlinewidth": 0,
              "ticks": ""
             }
            },
            "type": "parcoords"
           }
          ],
          "pie": [
           {
            "automargin": true,
            "type": "pie"
           }
          ],
          "scatter": [
           {
            "fillpattern": {
             "fillmode": "overlay",
             "size": 10,
             "solidity": 0.2
            },
            "type": "scatter"
           }
          ],
          "scatter3d": [
           {
            "line": {
             "colorbar": {
              "outlinewidth": 0,
              "ticks": ""
             }
            },
            "marker": {
             "colorbar": {
              "outlinewidth": 0,
              "ticks": ""
             }
            },
            "type": "scatter3d"
           }
          ],
          "scattercarpet": [
           {
            "marker": {
             "colorbar": {
              "outlinewidth": 0,
              "ticks": ""
             }
            },
            "type": "scattercarpet"
           }
          ],
          "scattergeo": [
           {
            "marker": {
             "colorbar": {
              "outlinewidth": 0,
              "ticks": ""
             }
            },
            "type": "scattergeo"
           }
          ],
          "scattergl": [
           {
            "marker": {
             "colorbar": {
              "outlinewidth": 0,
              "ticks": ""
             }
            },
            "type": "scattergl"
           }
          ],
          "scattermapbox": [
           {
            "marker": {
             "colorbar": {
              "outlinewidth": 0,
              "ticks": ""
             }
            },
            "type": "scattermapbox"
           }
          ],
          "scatterpolar": [
           {
            "marker": {
             "colorbar": {
              "outlinewidth": 0,
              "ticks": ""
             }
            },
            "type": "scatterpolar"
           }
          ],
          "scatterpolargl": [
           {
            "marker": {
             "colorbar": {
              "outlinewidth": 0,
              "ticks": ""
             }
            },
            "type": "scatterpolargl"
           }
          ],
          "scatterternary": [
           {
            "marker": {
             "colorbar": {
              "outlinewidth": 0,
              "ticks": ""
             }
            },
            "type": "scatterternary"
           }
          ],
          "surface": [
           {
            "colorbar": {
             "outlinewidth": 0,
             "ticks": ""
            },
            "colorscale": [
             [
              0,
              "#0d0887"
             ],
             [
              0.1111111111111111,
              "#46039f"
             ],
             [
              0.2222222222222222,
              "#7201a8"
             ],
             [
              0.3333333333333333,
              "#9c179e"
             ],
             [
              0.4444444444444444,
              "#bd3786"
             ],
             [
              0.5555555555555556,
              "#d8576b"
             ],
             [
              0.6666666666666666,
              "#ed7953"
             ],
             [
              0.7777777777777778,
              "#fb9f3a"
             ],
             [
              0.8888888888888888,
              "#fdca26"
             ],
             [
              1,
              "#f0f921"
             ]
            ],
            "type": "surface"
           }
          ],
          "table": [
           {
            "cells": {
             "fill": {
              "color": "#EBF0F8"
             },
             "line": {
              "color": "white"
             }
            },
            "header": {
             "fill": {
              "color": "#C8D4E3"
             },
             "line": {
              "color": "white"
             }
            },
            "type": "table"
           }
          ]
         },
         "layout": {
          "annotationdefaults": {
           "arrowcolor": "#2a3f5f",
           "arrowhead": 0,
           "arrowwidth": 1
          },
          "autotypenumbers": "strict",
          "coloraxis": {
           "colorbar": {
            "outlinewidth": 0,
            "ticks": ""
           }
          },
          "colorscale": {
           "diverging": [
            [
             0,
             "#8e0152"
            ],
            [
             0.1,
             "#c51b7d"
            ],
            [
             0.2,
             "#de77ae"
            ],
            [
             0.3,
             "#f1b6da"
            ],
            [
             0.4,
             "#fde0ef"
            ],
            [
             0.5,
             "#f7f7f7"
            ],
            [
             0.6,
             "#e6f5d0"
            ],
            [
             0.7,
             "#b8e186"
            ],
            [
             0.8,
             "#7fbc41"
            ],
            [
             0.9,
             "#4d9221"
            ],
            [
             1,
             "#276419"
            ]
           ],
           "sequential": [
            [
             0,
             "#0d0887"
            ],
            [
             0.1111111111111111,
             "#46039f"
            ],
            [
             0.2222222222222222,
             "#7201a8"
            ],
            [
             0.3333333333333333,
             "#9c179e"
            ],
            [
             0.4444444444444444,
             "#bd3786"
            ],
            [
             0.5555555555555556,
             "#d8576b"
            ],
            [
             0.6666666666666666,
             "#ed7953"
            ],
            [
             0.7777777777777778,
             "#fb9f3a"
            ],
            [
             0.8888888888888888,
             "#fdca26"
            ],
            [
             1,
             "#f0f921"
            ]
           ],
           "sequentialminus": [
            [
             0,
             "#0d0887"
            ],
            [
             0.1111111111111111,
             "#46039f"
            ],
            [
             0.2222222222222222,
             "#7201a8"
            ],
            [
             0.3333333333333333,
             "#9c179e"
            ],
            [
             0.4444444444444444,
             "#bd3786"
            ],
            [
             0.5555555555555556,
             "#d8576b"
            ],
            [
             0.6666666666666666,
             "#ed7953"
            ],
            [
             0.7777777777777778,
             "#fb9f3a"
            ],
            [
             0.8888888888888888,
             "#fdca26"
            ],
            [
             1,
             "#f0f921"
            ]
           ]
          },
          "colorway": [
           "#636efa",
           "#EF553B",
           "#00cc96",
           "#ab63fa",
           "#FFA15A",
           "#19d3f3",
           "#FF6692",
           "#B6E880",
           "#FF97FF",
           "#FECB52"
          ],
          "font": {
           "color": "#2a3f5f"
          },
          "geo": {
           "bgcolor": "white",
           "lakecolor": "white",
           "landcolor": "#E5ECF6",
           "showlakes": true,
           "showland": true,
           "subunitcolor": "white"
          },
          "hoverlabel": {
           "align": "left"
          },
          "hovermode": "closest",
          "mapbox": {
           "style": "light"
          },
          "paper_bgcolor": "white",
          "plot_bgcolor": "#E5ECF6",
          "polar": {
           "angularaxis": {
            "gridcolor": "white",
            "linecolor": "white",
            "ticks": ""
           },
           "bgcolor": "#E5ECF6",
           "radialaxis": {
            "gridcolor": "white",
            "linecolor": "white",
            "ticks": ""
           }
          },
          "scene": {
           "xaxis": {
            "backgroundcolor": "#E5ECF6",
            "gridcolor": "white",
            "gridwidth": 2,
            "linecolor": "white",
            "showbackground": true,
            "ticks": "",
            "zerolinecolor": "white"
           },
           "yaxis": {
            "backgroundcolor": "#E5ECF6",
            "gridcolor": "white",
            "gridwidth": 2,
            "linecolor": "white",
            "showbackground": true,
            "ticks": "",
            "zerolinecolor": "white"
           },
           "zaxis": {
            "backgroundcolor": "#E5ECF6",
            "gridcolor": "white",
            "gridwidth": 2,
            "linecolor": "white",
            "showbackground": true,
            "ticks": "",
            "zerolinecolor": "white"
           }
          },
          "shapedefaults": {
           "line": {
            "color": "#2a3f5f"
           }
          },
          "ternary": {
           "aaxis": {
            "gridcolor": "white",
            "linecolor": "white",
            "ticks": ""
           },
           "baxis": {
            "gridcolor": "white",
            "linecolor": "white",
            "ticks": ""
           },
           "bgcolor": "#E5ECF6",
           "caxis": {
            "gridcolor": "white",
            "linecolor": "white",
            "ticks": ""
           }
          },
          "title": {
           "x": 0.05
          },
          "xaxis": {
           "automargin": true,
           "gridcolor": "white",
           "linecolor": "white",
           "ticks": "",
           "title": {
            "standoff": 15
           },
           "zerolinecolor": "white",
           "zerolinewidth": 2
          },
          "yaxis": {
           "automargin": true,
           "gridcolor": "white",
           "linecolor": "white",
           "ticks": "",
           "title": {
            "standoff": 15
           },
           "zerolinecolor": "white",
           "zerolinewidth": 2
          }
         }
        },
        "title": {
         "text": "Uso de Gas"
        },
        "xaxis": {
         "anchor": "y",
         "domain": [
          0,
          1
         ],
         "title": {
          "text": "gas_type"
         }
        },
        "yaxis": {
         "anchor": "x",
         "domain": [
          0,
          1
         ],
         "title": {
          "text": "n"
         }
        }
       }
      }
     },
     "metadata": {},
     "output_type": "display_data"
    }
   ],
   "source": [
    "# visualización interactiva con Plotly:\n",
    "fig = px.bar(used_gas, x='gas_type', y='n', color='n',\n",
    "             color_continuous_scale='Spectral',\n",
    "             title='Uso de Gas')\n",
    "fig.show()"
   ]
  },
  {
   "cell_type": "code",
   "execution_count": 98,
   "id": "b0c236b1",
   "metadata": {},
   "outputs": [
    {
     "name": "stdout",
     "output_type": "stream",
     "text": [
      "Hay más casos de uso de gas SP98 que de E10.\n"
     ]
    }
   ],
   "source": [
    "# Más casos de uso de gas SP98 que de E10\n",
    "gas_counts = data['gas_type'].value_counts()\n",
    "if gas_counts['SP98'] > gas_counts['E10']:\n",
    "    print(\"Hay más casos de uso de gas SP98 que de E10.\")\n",
    "else:\n",
    "    print(\"Hay más casos de uso de gas E10 que de SP98.\")"
   ]
  },
  {
   "cell_type": "code",
   "execution_count": 99,
   "id": "d0aa4ef8",
   "metadata": {},
   "outputs": [
    {
     "data": {
      "image/png": "[encoded data removed]",
      "text/plain": [
       "<Figure size 1400x1000 with 3 Axes>"
      ]
     },
     "metadata": {},
     "output_type": "display_data"
    }
   ],
   "source": [
    "# Distancias\n",
    "plt.figure(figsize=(14, 10))\n",
    "plt.subplot(2, 2, 1)\n",
    "sns.boxplot(data=data, y=\"distance\", color=\"blue\")\n",
    "sns.stripplot(data=data, y=\"distance\", color=\"blue\", alpha=0.9, jitter=True)\n",
    "plt.ylabel(\"Distancia\")\n",
    "plt.title(\"Box Plot de las distancias recorridas\")\n",
    "\n",
    "plt.subplot(2, 2, 2)\n",
    "sns.kdeplot(data=data, x=\"distance\")\n",
    "plt.xlabel(\"Distance in km\")\n",
    "plt.title(\"Distancias recorridas Densidad\")\n",
    "\n",
    "plt.subplot(2, 2, 3)\n",
    "sns.boxplot(data=data, x=\"gas_type\", y=\"distance\", palette=\"Spectral\")\n",
    "plt.xlabel(\"Gas Type\")\n",
    "plt.ylabel(\"Distance\")\n",
    "plt.title(\"Bboxplot de la distancia recorrida por tipo de gas\")\n",
    "\n",
    "plt.tight_layout()\n",
    "plt.show()"
   ]
  },
  {
   "cell_type": "code",
   "execution_count": 100,
   "id": "a68ee1b4",
   "metadata": {},
   "outputs": [
    {
     "data": {
      "application/vnd.plotly.v1+json": {
       "config": {
        "plotlyServerURL": "https://plot.ly"
       },
       "data": [
        {
         "alignmentgroup": "True",
         "hovertemplate": "distance=%{y}<extra></extra>",
         "legendgroup": "",
         "marker": {
          "color": "blue"
         },
         "name": "",
         "notched": false,
         "offsetgroup": "",
         "orientation": "v",
         "showlegend": false,
         "type": "box",
         "x0": " ",
         "xaxis": "x",
         "y": [
          28,
          12,
          11.2,
          12.9,
          18.5,
          8.3,
          7.8,
          12.3,
          4.9,
          11.9,
          12.4,
          11.8,
          12.3,
          24.7,
          12.4,
          17.3,
          33.4,
          11.8,
          25.9,
          11.8,
          25.3,
          14.2,
          17.9,
          11.8,
          12.3,
          12.4,
          18.4,
          18.4,
          18.3,
          18.4,
          12.3,
          11.8,
          12.3,
          32.6,
          19,
          12.1,
          20,
          4.9,
          11.8,
          12.3,
          12.4,
          4.5,
          11.7,
          10.2,
          5.4,
          2,
          14.2,
          16,
          11.8,
          27.3,
          11.8,
          10.6,
          11.6,
          13.1,
          6.1,
          153.5,
          11.8,
          12.3,
          12.4,
          12.3,
          2.9,
          2.1,
          9.8,
          6.8,
          12.4,
          12.4,
          11.8,
          12.3,
          14,
          11.8,
          12.3,
          2,
          13.9,
          9.7,
          11.6,
          14.2,
          11.8,
          24.8,
          12.4,
          34.8,
          14.2,
          5.2,
          10.5,
          12.3,
          11.8,
          12.3,
          13.2,
          13,
          12.9,
          13.9,
          11.8,
          12.2,
          12.5,
          12.4,
          11.8,
          11.8,
          12.5,
          15.7,
          12.9,
          6.4,
          5.3,
          26.2,
          18.8,
          4.9,
          12.4,
          22.9,
          162.7,
          4.9,
          11.8,
          16.6,
          12.4,
          15.9,
          5.1,
          22.4,
          31.1,
          4.9,
          11.8,
          22.9,
          12.4,
          12.9,
          11.8,
          12.2,
          24.8,
          14.2,
          11.8,
          12.2,
          24.7,
          6.8,
          17.3,
          11.8,
          15.9,
          5.1,
          16.1,
          11.8,
          4.2,
          17.4,
          23.5,
          11.8,
          12.3,
          16.1,
          11.8,
          12.3,
          12.4,
          7,
          11.8,
          20.1,
          20.8,
          1.7,
          35.9,
          36.9,
          16.8,
          9.9,
          22.9,
          17.3,
          11.8,
          36.6,
          44.9,
          11.8,
          21.6,
          39.4,
          5.1,
          26.6,
          53.2,
          18.9,
          43.5,
          6.1,
          16.4,
          12.3,
          21.1,
          21.1,
          22.7,
          44.4,
          35.8,
          11.8,
          26.2,
          40.6,
          12.4,
          14.1,
          58.7,
          16.2,
          12.3,
          12.3,
          12.4,
          31.8,
          12.3,
          51.6,
          38.6,
          12.3,
          81.2,
          130.3,
          67.2,
          43.7,
          12.1,
          56.1,
          39,
          11.8,
          38.5,
          28.2,
          2.9,
          6.1,
          19.6,
          22.2,
          13.6,
          12.6,
          8.7,
          7.9,
          2.4,
          4.9,
          18.1,
          25.9,
          1.3,
          14.1,
          13.4,
          6.4,
          12.9,
          12.1,
          15.7,
          16.2,
          12.8,
          19,
          29,
          12.1,
          12.3,
          24.8,
          12.9,
          11.8,
          31.4,
          19,
          13,
          11.8,
          13,
          11.8,
          27.1,
          5.2,
          19,
          12.4,
          25.2,
          14.3,
          11.8,
          16.9,
          12.4,
          17.4,
          9.2,
          12.3,
          13,
          11.8,
          13,
          12.3,
          12.3,
          12.5,
          31.5,
          11.8,
          24.9,
          17,
          2,
          11.8,
          7.4,
          12.4,
          2,
          14,
          25.7,
          24.5,
          11.8,
          4.1,
          4.2,
          4.2,
          16,
          22.9,
          16,
          15.4,
          16,
          4.2,
          101.9,
          93.9,
          25.7,
          16,
          16.1,
          16,
          16,
          24.7,
          16,
          15.4,
          16,
          32.1,
          25.9,
          48.6,
          37.2,
          28.8,
          6.7,
          7.4,
          17.3,
          6.6,
          14.3,
          13.3,
          8.3,
          12.7,
          16.5,
          20.6,
          16.3,
          18.7,
          36.5,
          19,
          16.6,
          29.9,
          16,
          21.1,
          16,
          11.9,
          10.1,
          31.9,
          18.7,
          10.8,
          19.8,
          11.3,
          11.5,
          21.4,
          32,
          41.9,
          211,
          216.1,
          25.5,
          16.6,
          25.9,
          16.5,
          22.1,
          16.6,
          15.4,
          16.5,
          15.4,
          18.4,
          39.5,
          21.5,
          4.8,
          100.9,
          129.7,
          16.6,
          15.4,
          16,
          16,
          15.4,
          16,
          21,
          15.4,
          16,
          16.1,
          16,
          15.4,
          17.2,
          16.6,
          18.3,
          16.1,
          16,
          16.3,
          16,
          18.3,
          4.5,
          17,
          6.1,
          6.1,
          17.3,
          6,
          16,
          15.4,
          15.4,
          16,
          15.4,
          16.6,
          15.4,
          16,
          15.4,
          16,
          20.9,
          32.1,
          15.3,
          28.5,
          11.9,
          14.5,
          16.6,
          16.2,
          16.7,
          8.3,
          5.5,
          13.6,
          16,
          16.1,
          16,
          15.4,
          14.7
         ],
         "y0": " ",
         "yaxis": "y"
        },
        {
         "alignmentgroup": "True",
         "boxpoints": "all",
         "fillcolor": "rgba(255,255,255,0)",
         "hoveron": "points",
         "hovertemplate": "distance=%{y}<extra></extra>",
         "legendgroup": "",
         "line": {
          "color": "rgba(255,255,255,0)"
         },
         "marker": {
          "color": "blue"
         },
         "name": "",
         "offsetgroup": "",
         "orientation": "v",
         "pointpos": 0,
         "showlegend": false,
         "type": "box",
         "x0": " ",
         "xaxis": "x",
         "y": [
          28,
          12,
          11.2,
          12.9,
          18.5,
          8.3,
          7.8,
          12.3,
          4.9,
          11.9,
          12.4,
          11.8,
          12.3,
          24.7,
          12.4,
          17.3,
          33.4,
          11.8,
          25.9,
          11.8,
          25.3,
          14.2,
          17.9,
          11.8,
          12.3,
          12.4,
          18.4,
          18.4,
          18.3,
          18.4,
          12.3,
          11.8,
          12.3,
          32.6,
          19,
          12.1,
          20,
          4.9,
          11.8,
          12.3,
          12.4,
          4.5,
          11.7,
          10.2,
          5.4,
          2,
          14.2,
          16,
          11.8,
          27.3,
          11.8,
          10.6,
          11.6,
          13.1,
          6.1,
          153.5,
          11.8,
          12.3,
          12.4,
          12.3,
          2.9,
          2.1,
          9.8,
          6.8,
          12.4,
          12.4,
          11.8,
          12.3,
          14,
          11.8,
          12.3,
          2,
          13.9,
          9.7,
          11.6,
          14.2,
          11.8,
          24.8,
          12.4,
          34.8,
          14.2,
          5.2,
          10.5,
          12.3,
          11.8,
          12.3,
          13.2,
          13,
          12.9,
          13.9,
          11.8,
          12.2,
          12.5,
          12.4,
          11.8,
          11.8,
          12.5,
          15.7,
          12.9,
          6.4,
          5.3,
          26.2,
          18.8,
          4.9,
          12.4,
          22.9,
          162.7,
          4.9,
          11.8,
          16.6,
          12.4,
          15.9,
          5.1,
          22.4,
          31.1,
          4.9,
          11.8,
          22.9,
          12.4,
          12.9,
          11.8,
          12.2,
          24.8,
          14.2,
          11.8,
          12.2,
          24.7,
          6.8,
          17.3,
          11.8,
          15.9,
          5.1,
          16.1,
          11.8,
          4.2,
          17.4,
          23.5,
          11.8,
          12.3,
          16.1,
          11.8,
          12.3,
          12.4,
          7,
          11.8,
          20.1,
          20.8,
          1.7,
          35.9,
          36.9,
          16.8,
          9.9,
          22.9,
          17.3,
          11.8,
          36.6,
          44.9,
          11.8,
          21.6,
          39.4,
          5.1,
          26.6,
          53.2,
          18.9,
          43.5,
          6.1,
          16.4,
          12.3,
          21.1,
          21.1,
          22.7,
          44.4,
          35.8,
          11.8,
          26.2,
          40.6,
          12.4,
          14.1,
          58.7,
          16.2,
          12.3,
          12.3,
          12.4,
          31.8,
          12.3,
          51.6,
          38.6,
          12.3,
          81.2,
          130.3,
          67.2,
          43.7,
          12.1,
          56.1,
          39,
          11.8,
          38.5,
          28.2,
          2.9,
          6.1,
          19.6,
          22.2,
          13.6,
          12.6,
          8.7,
          7.9,
          2.4,
          4.9,
          18.1,
          25.9,
          1.3,
          14.1,
          13.4,
          6.4,
          12.9,
          12.1,
          15.7,
          16.2,
          12.8,
          19,
          29,
          12.1,
          12.3,
          24.8,
          12.9,
          11.8,
          31.4,
          19,
          13,
          11.8,
          13,
          11.8,
          27.1,
          5.2,
          19,
          12.4,
          25.2,
          14.3,
          11.8,
          16.9,
          12.4,
          17.4,
          9.2,
          12.3,
          13,
          11.8,
          13,
          12.3,
          12.3,
          12.5,
          31.5,
          11.8,
          24.9,
          17,
          2,
          11.8,
          7.4,
          12.4,
          2,
          14,
          25.7,
          24.5,
          11.8,
          4.1,
          4.2,
          4.2,
          16,
          22.9,
          16,
          15.4,
          16,
          4.2,
          101.9,
          93.9,
          25.7,
          16,
          16.1,
          16,
          16,
          24.7,
          16,
          15.4,
          16,
          32.1,
          25.9,
          48.6,
          37.2,
          28.8,
          6.7,
          7.4,
          17.3,
          6.6,
          14.3,
          13.3,
          8.3,
          12.7,
          16.5,
          20.6,
          16.3,
          18.7,
          36.5,
          19,
          16.6,
          29.9,
          16,
          21.1,
          16,
          11.9,
          10.1,
          31.9,
          18.7,
          10.8,
          19.8,
          11.3,
          11.5,
          21.4,
          32,
          41.9,
          211,
          216.1,
          25.5,
          16.6,
          25.9,
          16.5,
          22.1,
          16.6,
          15.4,
          16.5,
          15.4,
          18.4,
          39.5,
          21.5,
          4.8,
          100.9,
          129.7,
          16.6,
          15.4,
          16,
          16,
          15.4,
          16,
          21,
          15.4,
          16,
          16.1,
          16,
          15.4,
          17.2,
          16.6,
          18.3,
          16.1,
          16,
          16.3,
          16,
          18.3,
          4.5,
          17,
          6.1,
          6.1,
          17.3,
          6,
          16,
          15.4,
          15.4,
          16,
          15.4,
          16.6,
          15.4,
          16,
          15.4,
          16,
          20.9,
          32.1,
          15.3,
          28.5,
          11.9,
          14.5,
          16.6,
          16.2,
          16.7,
          8.3,
          5.5,
          13.6,
          16,
          16.1,
          16,
          15.4,
          14.7
         ],
         "y0": " ",
         "yaxis": "y"
        }
       ],
       "layout": {
        "boxmode": "group",
        "legend": {
         "tracegroupgap": 0
        },
        "margin": {
         "t": 60
        },
        "template": {
         "data": {
          "bar": [
           {
            "error_x": {
             "color": "#2a3f5f"
            },
            "error_y": {
             "color": "#2a3f5f"
            },
            "marker": {
             "line": {
              "color": "#E5ECF6",
              "width": 0.5
             },
             "pattern": {
              "fillmode": "overlay",
              "size": 10,
              "solidity": 0.2
             }
            },
            "type": "bar"
           }
          ],
          "barpolar": [
           {
            "marker": {
             "line": {
              "color": "#E5ECF6",
              "width": 0.5
             },
             "pattern": {
              "fillmode": "overlay",
              "size": 10,
              "solidity": 0.2
             }
            },
            "type": "barpolar"
           }
          ],
          "carpet": [
           {
            "aaxis": {
             "endlinecolor": "#2a3f5f",
             "gridcolor": "white",
             "linecolor": "white",
             "minorgridcolor": "white",
             "startlinecolor": "#2a3f5f"
            },
            "baxis": {
             "endlinecolor": "#2a3f5f",
             "gridcolor": "white",
             "linecolor": "white",
             "minorgridcolor": "white",
             "startlinecolor": "#2a3f5f"
            },
            "type": "carpet"
           }
          ],
          "choropleth": [
           {
            "colorbar": {
             "outlinewidth": 0,
             "ticks": ""
            },
            "type": "choropleth"
           }
          ],
          "contour": [
           {
            "colorbar": {
             "outlinewidth": 0,
             "ticks": ""
            },
            "colorscale": [
             [
              0,
              "#0d0887"
             ],
             [
              0.1111111111111111,
              "#46039f"
             ],
             [
              0.2222222222222222,
              "#7201a8"
             ],
             [
              0.3333333333333333,
              "#9c179e"
             ],
             [
              0.4444444444444444,
              "#bd3786"
             ],
             [
              0.5555555555555556,
              "#d8576b"
             ],
             [
              0.6666666666666666,
              "#ed7953"
             ],
             [
              0.7777777777777778,
              "#fb9f3a"
             ],
             [
              0.8888888888888888,
              "#fdca26"
             ],
             [
              1,
              "#f0f921"
             ]
            ],
            "type": "contour"
           }
          ],
          "contourcarpet": [
           {
            "colorbar": {
             "outlinewidth": 0,
             "ticks": ""
            },
            "type": "contourcarpet"
           }
          ],
          "heatmap": [
           {
            "colorbar": {
             "outlinewidth": 0,
             "ticks": ""
            },
            "colorscale": [
             [
              0,
              "#0d0887"
             ],
             [
              0.1111111111111111,
              "#46039f"
             ],
             [
              0.2222222222222222,
              "#7201a8"
             ],
             [
              0.3333333333333333,
              "#9c179e"
             ],
             [
              0.4444444444444444,
              "#bd3786"
             ],
             [
              0.5555555555555556,
              "#d8576b"
             ],
             [
              0.6666666666666666,
              "#ed7953"
             ],
             [
              0.7777777777777778,
              "#fb9f3a"
             ],
             [
              0.8888888888888888,
              "#fdca26"
             ],
             [
              1,
              "#f0f921"
             ]
            ],
            "type": "heatmap"
           }
          ],
          "heatmapgl": [
           {
            "colorbar": {
             "outlinewidth": 0,
             "ticks": ""
            },
            "colorscale": [
             [
              0,
              "#0d0887"
             ],
             [
              0.1111111111111111,
              "#46039f"
             ],
             [
              0.2222222222222222,
              "#7201a8"
             ],
             [
              0.3333333333333333,
              "#9c179e"
             ],
             [
              0.4444444444444444,
              "#bd3786"
             ],
             [
              0.5555555555555556,
              "#d8576b"
             ],
             [
              0.6666666666666666,
              "#ed7953"
             ],
             [
              0.7777777777777778,
              "#fb9f3a"
             ],
             [
              0.8888888888888888,
              "#fdca26"
             ],
             [
              1,
              "#f0f921"
             ]
            ],
            "type": "heatmapgl"
           }
          ],
          "histogram": [
           {
            "marker": {
             "pattern": {
              "fillmode": "overlay",
              "size": 10,
              "solidity": 0.2
             }
            },
            "type": "histogram"
           }
          ],
          "histogram2d": [
           {
            "colorbar": {
             "outlinewidth": 0,
             "ticks": ""
            },
            "colorscale": [
             [
              0,
              "#0d0887"
             ],
             [
              0.1111111111111111,
              "#46039f"
             ],
             [
              0.2222222222222222,
              "#7201a8"
             ],
             [
              0.3333333333333333,
              "#9c179e"
             ],
             [
              0.4444444444444444,
              "#bd3786"
             ],
             [
              0.5555555555555556,
              "#d8576b"
             ],
             [
              0.6666666666666666,
              "#ed7953"
             ],
             [
              0.7777777777777778,
              "#fb9f3a"
             ],
             [
              0.8888888888888888,
              "#fdca26"
             ],
             [
              1,
              "#f0f921"
             ]
            ],
            "type": "histogram2d"
           }
          ],
          "histogram2dcontour": [
           {
            "colorbar": {
             "outlinewidth": 0,
             "ticks": ""
            },
            "colorscale": [
             [
              0,
              "#0d0887"
             ],
             [
              0.1111111111111111,
              "#46039f"
             ],
             [
              0.2222222222222222,
              "#7201a8"
             ],
             [
              0.3333333333333333,
              "#9c179e"
             ],
             [
              0.4444444444444444,
              "#bd3786"
             ],
             [
              0.5555555555555556,
              "#d8576b"
             ],
             [
              0.6666666666666666,
              "#ed7953"
             ],
             [
              0.7777777777777778,
              "#fb9f3a"
             ],
             [
              0.8888888888888888,
              "#fdca26"
             ],
             [
              1,
              "#f0f921"
             ]
            ],
            "type": "histogram2dcontour"
           }
          ],
          "mesh3d": [
           {
            "colorbar": {
             "outlinewidth": 0,
             "ticks": ""
            },
            "type": "mesh3d"
           }
          ],
          "parcoords": [
           {
            "line": {
             "colorbar": {
              "outlinewidth": 0,
              "ticks": ""
             }
            },
            "type": "parcoords"
           }
          ],
          "pie": [
           {
            "automargin": true,
            "type": "pie"
           }
          ],
          "scatter": [
           {
            "fillpattern": {
             "fillmode": "overlay",
             "size": 10,
             "solidity": 0.2
            },
            "type": "scatter"
           }
          ],
          "scatter3d": [
           {
            "line": {
             "colorbar": {
              "outlinewidth": 0,
              "ticks": ""
             }
            },
            "marker": {
             "colorbar": {
              "outlinewidth": 0,
              "ticks": ""
             }
            },
            "type": "scatter3d"
           }
          ],
          "scattercarpet": [
           {
            "marker": {
             "colorbar": {
              "outlinewidth": 0,
              "ticks": ""
             }
            },
            "type": "scattercarpet"
           }
          ],
          "scattergeo": [
           {
            "marker": {
             "colorbar": {
              "outlinewidth": 0,
              "ticks": ""
             }
            },
            "type": "scattergeo"
           }
          ],
          "scattergl": [
           {
            "marker": {
             "colorbar": {
              "outlinewidth": 0,
              "ticks": ""
             }
            },
            "type": "scattergl"
           }
          ],
          "scattermapbox": [
           {
            "marker": {
             "colorbar": {
              "outlinewidth": 0,
              "ticks": ""
             }
            },
            "type": "scattermapbox"
           }
          ],
          "scatterpolar": [
           {
            "marker": {
             "colorbar": {
              "outlinewidth": 0,
              "ticks": ""
             }
            },
            "type": "scatterpolar"
           }
          ],
          "scatterpolargl": [
           {
            "marker": {
             "colorbar": {
              "outlinewidth": 0,
              "ticks": ""
             }
            },
            "type": "scatterpolargl"
           }
          ],
          "scatterternary": [
           {
            "marker": {
             "colorbar": {
              "outlinewidth": 0,
              "ticks": ""
             }
            },
            "type": "scatterternary"
           }
          ],
          "surface": [
           {
            "colorbar": {
             "outlinewidth": 0,
             "ticks": ""
            },
            "colorscale": [
             [
              0,
              "#0d0887"
             ],
             [
              0.1111111111111111,
              "#46039f"
             ],
             [
              0.2222222222222222,
              "#7201a8"
             ],
             [
              0.3333333333333333,
              "#9c179e"
             ],
             [
              0.4444444444444444,
              "#bd3786"
             ],
             [
              0.5555555555555556,
              "#d8576b"
             ],
             [
              0.6666666666666666,
              "#ed7953"
             ],
             [
              0.7777777777777778,
              "#fb9f3a"
             ],
             [
              0.8888888888888888,
              "#fdca26"
             ],
             [
              1,
              "#f0f921"
             ]
            ],
            "type": "surface"
           }
          ],
          "table": [
           {
            "cells": {
             "fill": {
              "color": "#EBF0F8"
             },
             "line": {
              "color": "white"
             }
            },
            "header": {
             "fill": {
              "color": "#C8D4E3"
             },
             "line": {
              "color": "white"
             }
            },
            "type": "table"
           }
          ]
         },
         "layout": {
          "annotationdefaults": {
           "arrowcolor": "#2a3f5f",
           "arrowhead": 0,
           "arrowwidth": 1
          },
          "autotypenumbers": "strict",
          "coloraxis": {
           "colorbar": {
            "outlinewidth": 0,
            "ticks": ""
           }
          },
          "colorscale": {
           "diverging": [
            [
             0,
             "#8e0152"
            ],
            [
             0.1,
             "#c51b7d"
            ],
            [
             0.2,
             "#de77ae"
            ],
            [
             0.3,
             "#f1b6da"
            ],
            [
             0.4,
             "#fde0ef"
            ],
            [
             0.5,
             "#f7f7f7"
            ],
            [
             0.6,
             "#e6f5d0"
            ],
            [
             0.7,
             "#b8e186"
            ],
            [
             0.8,
             "#7fbc41"
            ],
            [
             0.9,
             "#4d9221"
            ],
            [
             1,
             "#276419"
            ]
           ],
           "sequential": [
            [
             0,
             "#0d0887"
            ],
            [
             0.1111111111111111,
             "#46039f"
            ],
            [
             0.2222222222222222,
             "#7201a8"
            ],
            [
             0.3333333333333333,
             "#9c179e"
            ],
            [
             0.4444444444444444,
             "#bd3786"
            ],
            [
             0.5555555555555556,
             "#d8576b"
            ],
            [
             0.6666666666666666,
             "#ed7953"
            ],
            [
             0.7777777777777778,
             "#fb9f3a"
            ],
            [
             0.8888888888888888,
             "#fdca26"
            ],
            [
             1,
             "#f0f921"
            ]
           ],
           "sequentialminus": [
            [
             0,
             "#0d0887"
            ],
            [
             0.1111111111111111,
             "#46039f"
            ],
            [
             0.2222222222222222,
             "#7201a8"
            ],
            [
             0.3333333333333333,
             "#9c179e"
            ],
            [
             0.4444444444444444,
             "#bd3786"
            ],
            [
             0.5555555555555556,
             "#d8576b"
            ],
            [
             0.6666666666666666,
             "#ed7953"
            ],
            [
             0.7777777777777778,
             "#fb9f3a"
            ],
            [
             0.8888888888888888,
             "#fdca26"
            ],
            [
             1,
             "#f0f921"
            ]
           ]
          },
          "colorway": [
           "#636efa",
           "#EF553B",
           "#00cc96",
           "#ab63fa",
           "#FFA15A",
           "#19d3f3",
           "#FF6692",
           "#B6E880",
           "#FF97FF",
           "#FECB52"
          ],
          "font": {
           "color": "#2a3f5f"
          },
          "geo": {
           "bgcolor": "white",
           "lakecolor": "white",
           "landcolor": "#E5ECF6",
           "showlakes": true,
           "showland": true,
           "subunitcolor": "white"
          },
          "hoverlabel": {
           "align": "left"
          },
          "hovermode": "closest",
          "mapbox": {
           "style": "light"
          },
          "paper_bgcolor": "white",
          "plot_bgcolor": "#E5ECF6",
          "polar": {
           "angularaxis": {
            "gridcolor": "white",
            "linecolor": "white",
            "ticks": ""
           },
           "bgcolor": "#E5ECF6",
           "radialaxis": {
            "gridcolor": "white",
            "linecolor": "white",
            "ticks": ""
           }
          },
          "scene": {
           "xaxis": {
            "backgroundcolor": "#E5ECF6",
            "gridcolor": "white",
            "gridwidth": 2,
            "linecolor": "white",
            "showbackground": true,
            "ticks": "",
            "zerolinecolor": "white"
           },
           "yaxis": {
            "backgroundcolor": "#E5ECF6",
            "gridcolor": "white",
            "gridwidth": 2,
            "linecolor": "white",
            "showbackground": true,
            "ticks": "",
            "zerolinecolor": "white"
           },
           "zaxis": {
            "backgroundcolor": "#E5ECF6",
            "gridcolor": "white",
            "gridwidth": 2,
            "linecolor": "white",
            "showbackground": true,
            "ticks": "",
            "zerolinecolor": "white"
           }
          },
          "shapedefaults": {
           "line": {
            "color": "#2a3f5f"
           }
          },
          "ternary": {
           "aaxis": {
            "gridcolor": "white",
            "linecolor": "white",
            "ticks": ""
           },
           "baxis": {
            "gridcolor": "white",
            "linecolor": "white",
            "ticks": ""
           },
           "bgcolor": "#E5ECF6",
           "caxis": {
            "gridcolor": "white",
            "linecolor": "white",
            "ticks": ""
           }
          },
          "title": {
           "x": 0.05
          },
          "xaxis": {
           "automargin": true,
           "gridcolor": "white",
           "linecolor": "white",
           "ticks": "",
           "title": {
            "standoff": 15
           },
           "zerolinecolor": "white",
           "zerolinewidth": 2
          },
          "yaxis": {
           "automargin": true,
           "gridcolor": "white",
           "linecolor": "white",
           "ticks": "",
           "title": {
            "standoff": 15
           },
           "zerolinecolor": "white",
           "zerolinewidth": 2
          }
         }
        },
        "title": {
         "text": "Box Plot de las distancias recorridas"
        },
        "xaxis": {
         "anchor": "y",
         "domain": [
          0,
          1
         ]
        },
        "yaxis": {
         "anchor": "x",
         "domain": [
          0,
          1
         ],
         "title": {
          "text": "distance"
         }
        }
       }
      }
     },
     "metadata": {},
     "output_type": "display_data"
    },
    {
     "data": {
      "application/vnd.plotly.v1+json": {
       "config": {
        "plotlyServerURL": "https://plot.ly"
       },
       "data": [
        {
         "alignmentgroup": "True",
         "bingroup": "x",
         "hovertemplate": "distance=%{x}<br>count=%{y}<extra></extra>",
         "legendgroup": "",
         "marker": {
          "color": "#636efa",
          "pattern": {
           "shape": ""
          }
         },
         "name": "",
         "nbinsx": 30,
         "offsetgroup": "",
         "orientation": "v",
         "showlegend": false,
         "type": "histogram",
         "x": [
          28,
          12,
          11.2,
          12.9,
          18.5,
          8.3,
          7.8,
          12.3,
          4.9,
          11.9,
          12.4,
          11.8,
          12.3,
          24.7,
          12.4,
          17.3,
          33.4,
          11.8,
          25.9,
          11.8,
          25.3,
          14.2,
          17.9,
          11.8,
          12.3,
          12.4,
          18.4,
          18.4,
          18.3,
          18.4,
          12.3,
          11.8,
          12.3,
          32.6,
          19,
          12.1,
          20,
          4.9,
          11.8,
          12.3,
          12.4,
          4.5,
          11.7,
          10.2,
          5.4,
          2,
          14.2,
          16,
          11.8,
          27.3,
          11.8,
          10.6,
          11.6,
          13.1,
          6.1,
          153.5,
          11.8,
          12.3,
          12.4,
          12.3,
          2.9,
          2.1,
          9.8,
          6.8,
          12.4,
          12.4,
          11.8,
          12.3,
          14,
          11.8,
          12.3,
          2,
          13.9,
          9.7,
          11.6,
          14.2,
          11.8,
          24.8,
          12.4,
          34.8,
          14.2,
          5.2,
          10.5,
          12.3,
          11.8,
          12.3,
          13.2,
          13,
          12.9,
          13.9,
          11.8,
          12.2,
          12.5,
          12.4,
          11.8,
          11.8,
          12.5,
          15.7,
          12.9,
          6.4,
          5.3,
          26.2,
          18.8,
          4.9,
          12.4,
          22.9,
          162.7,
          4.9,
          11.8,
          16.6,
          12.4,
          15.9,
          5.1,
          22.4,
          31.1,
          4.9,
          11.8,
          22.9,
          12.4,
          12.9,
          11.8,
          12.2,
          24.8,
          14.2,
          11.8,
          12.2,
          24.7,
          6.8,
          17.3,
          11.8,
          15.9,
          5.1,
          16.1,
          11.8,
          4.2,
          17.4,
          23.5,
          11.8,
          12.3,
          16.1,
          11.8,
          12.3,
          12.4,
          7,
          11.8,
          20.1,
          20.8,
          1.7,
          35.9,
          36.9,
          16.8,
          9.9,
          22.9,
          17.3,
          11.8,
          36.6,
          44.9,
          11.8,
          21.6,
          39.4,
          5.1,
          26.6,
          53.2,
          18.9,
          43.5,
          6.1,
          16.4,
          12.3,
          21.1,
          21.1,
          22.7,
          44.4,
          35.8,
          11.8,
          26.2,
          40.6,
          12.4,
          14.1,
          58.7,
          16.2,
          12.3,
          12.3,
          12.4,
          31.8,
          12.3,
          51.6,
          38.6,
          12.3,
          81.2,
          130.3,
          67.2,
          43.7,
          12.1,
          56.1,
          39,
          11.8,
          38.5,
          28.2,
          2.9,
          6.1,
          19.6,
          22.2,
          13.6,
          12.6,
          8.7,
          7.9,
          2.4,
          4.9,
          18.1,
          25.9,
          1.3,
          14.1,
          13.4,
          6.4,
          12.9,
          12.1,
          15.7,
          16.2,
          12.8,
          19,
          29,
          12.1,
          12.3,
          24.8,
          12.9,
          11.8,
          31.4,
          19,
          13,
          11.8,
          13,
          11.8,
          27.1,
          5.2,
          19,
          12.4,
          25.2,
          14.3,
          11.8,
          16.9,
          12.4,
          17.4,
          9.2,
          12.3,
          13,
          11.8,
          13,
          12.3,
          12.3,
          12.5,
          31.5,
          11.8,
          24.9,
          17,
          2,
          11.8,
          7.4,
          12.4,
          2,
          14,
          25.7,
          24.5,
          11.8,
          4.1,
          4.2,
          4.2,
          16,
          22.9,
          16,
          15.4,
          16,
          4.2,
          101.9,
          93.9,
          25.7,
          16,
          16.1,
          16,
          16,
          24.7,
          16,
          15.4,
          16,
          32.1,
          25.9,
          48.6,
          37.2,
          28.8,
          6.7,
          7.4,
          17.3,
          6.6,
          14.3,
          13.3,
          8.3,
          12.7,
          16.5,
          20.6,
          16.3,
          18.7,
          36.5,
          19,
          16.6,
          29.9,
          16,
          21.1,
          16,
          11.9,
          10.1,
          31.9,
          18.7,
          10.8,
          19.8,
          11.3,
          11.5,
          21.4,
          32,
          41.9,
          211,
          216.1,
          25.5,
          16.6,
          25.9,
          16.5,
          22.1,
          16.6,
          15.4,
          16.5,
          15.4,
          18.4,
          39.5,
          21.5,
          4.8,
          100.9,
          129.7,
          16.6,
          15.4,
          16,
          16,
          15.4,
          16,
          21,
          15.4,
          16,
          16.1,
          16,
          15.4,
          17.2,
          16.6,
          18.3,
          16.1,
          16,
          16.3,
          16,
          18.3,
          4.5,
          17,
          6.1,
          6.1,
          17.3,
          6,
          16,
          15.4,
          15.4,
          16,
          15.4,
          16.6,
          15.4,
          16,
          15.4,
          16,
          20.9,
          32.1,
          15.3,
          28.5,
          11.9,
          14.5,
          16.6,
          16.2,
          16.7,
          8.3,
          5.5,
          13.6,
          16,
          16.1,
          16,
          15.4,
          14.7
         ],
         "xaxis": "x",
         "yaxis": "y"
        },
        {
         "alignmentgroup": "True",
         "boxpoints": "all",
         "fillcolor": "rgba(255,255,255,0)",
         "hoveron": "points",
         "hovertemplate": "distance=%{x}<extra></extra>",
         "jitter": 0,
         "legendgroup": "",
         "line": {
          "color": "rgba(255,255,255,0)"
         },
         "marker": {
          "color": "#636efa",
          "symbol": "line-ns-open"
         },
         "name": "",
         "offsetgroup": "",
         "showlegend": false,
         "type": "box",
         "x": [
          28,
          12,
          11.2,
          12.9,
          18.5,
          8.3,
          7.8,
          12.3,
          4.9,
          11.9,
          12.4,
          11.8,
          12.3,
          24.7,
          12.4,
          17.3,
          33.4,
          11.8,
          25.9,
          11.8,
          25.3,
          14.2,
          17.9,
          11.8,
          12.3,
          12.4,
          18.4,
          18.4,
          18.3,
          18.4,
          12.3,
          11.8,
          12.3,
          32.6,
          19,
          12.1,
          20,
          4.9,
          11.8,
          12.3,
          12.4,
          4.5,
          11.7,
          10.2,
          5.4,
          2,
          14.2,
          16,
          11.8,
          27.3,
          11.8,
          10.6,
          11.6,
          13.1,
          6.1,
          153.5,
          11.8,
          12.3,
          12.4,
          12.3,
          2.9,
          2.1,
          9.8,
          6.8,
          12.4,
          12.4,
          11.8,
          12.3,
          14,
          11.8,
          12.3,
          2,
          13.9,
          9.7,
          11.6,
          14.2,
          11.8,
          24.8,
          12.4,
          34.8,
          14.2,
          5.2,
          10.5,
          12.3,
          11.8,
          12.3,
          13.2,
          13,
          12.9,
          13.9,
          11.8,
          12.2,
          12.5,
          12.4,
          11.8,
          11.8,
          12.5,
          15.7,
          12.9,
          6.4,
          5.3,
          26.2,
          18.8,
          4.9,
          12.4,
          22.9,
          162.7,
          4.9,
          11.8,
          16.6,
          12.4,
          15.9,
          5.1,
          22.4,
          31.1,
          4.9,
          11.8,
          22.9,
          12.4,
          12.9,
          11.8,
          12.2,
          24.8,
          14.2,
          11.8,
          12.2,
          24.7,
          6.8,
          17.3,
          11.8,
          15.9,
          5.1,
          16.1,
          11.8,
          4.2,
          17.4,
          23.5,
          11.8,
          12.3,
          16.1,
          11.8,
          12.3,
          12.4,
          7,
          11.8,
          20.1,
          20.8,
          1.7,
          35.9,
          36.9,
          16.8,
          9.9,
          22.9,
          17.3,
          11.8,
          36.6,
          44.9,
          11.8,
          21.6,
          39.4,
          5.1,
          26.6,
          53.2,
          18.9,
          43.5,
          6.1,
          16.4,
          12.3,
          21.1,
          21.1,
          22.7,
          44.4,
          35.8,
          11.8,
          26.2,
          40.6,
          12.4,
          14.1,
          58.7,
          16.2,
          12.3,
          12.3,
          12.4,
          31.8,
          12.3,
          51.6,
          38.6,
          12.3,
          81.2,
          130.3,
          67.2,
          43.7,
          12.1,
          56.1,
          39,
          11.8,
          38.5,
          28.2,
          2.9,
          6.1,
          19.6,
          22.2,
          13.6,
          12.6,
          8.7,
          7.9,
          2.4,
          4.9,
          18.1,
          25.9,
          1.3,
          14.1,
          13.4,
          6.4,
          12.9,
          12.1,
          15.7,
          16.2,
          12.8,
          19,
          29,
          12.1,
          12.3,
          24.8,
          12.9,
          11.8,
          31.4,
          19,
          13,
          11.8,
          13,
          11.8,
          27.1,
          5.2,
          19,
          12.4,
          25.2,
          14.3,
          11.8,
          16.9,
          12.4,
          17.4,
          9.2,
          12.3,
          13,
          11.8,
          13,
          12.3,
          12.3,
          12.5,
          31.5,
          11.8,
          24.9,
          17,
          2,
          11.8,
          7.4,
          12.4,
          2,
          14,
          25.7,
          24.5,
          11.8,
          4.1,
          4.2,
          4.2,
          16,
          22.9,
          16,
          15.4,
          16,
          4.2,
          101.9,
          93.9,
          25.7,
          16,
          16.1,
          16,
          16,
          24.7,
          16,
          15.4,
          16,
          32.1,
          25.9,
          48.6,
          37.2,
          28.8,
          6.7,
          7.4,
          17.3,
          6.6,
          14.3,
          13.3,
          8.3,
          12.7,
          16.5,
          20.6,
          16.3,
          18.7,
          36.5,
          19,
          16.6,
          29.9,
          16,
          21.1,
          16,
          11.9,
          10.1,
          31.9,
          18.7,
          10.8,
          19.8,
          11.3,
          11.5,
          21.4,
          32,
          41.9,
          211,
          216.1,
          25.5,
          16.6,
          25.9,
          16.5,
          22.1,
          16.6,
          15.4,
          16.5,
          15.4,
          18.4,
          39.5,
          21.5,
          4.8,
          100.9,
          129.7,
          16.6,
          15.4,
          16,
          16,
          15.4,
          16,
          21,
          15.4,
          16,
          16.1,
          16,
          15.4,
          17.2,
          16.6,
          18.3,
          16.1,
          16,
          16.3,
          16,
          18.3,
          4.5,
          17,
          6.1,
          6.1,
          17.3,
          6,
          16,
          15.4,
          15.4,
          16,
          15.4,
          16.6,
          15.4,
          16,
          15.4,
          16,
          20.9,
          32.1,
          15.3,
          28.5,
          11.9,
          14.5,
          16.6,
          16.2,
          16.7,
          8.3,
          5.5,
          13.6,
          16,
          16.1,
          16,
          15.4,
          14.7
         ],
         "xaxis": "x2",
         "yaxis": "y2"
        }
       ],
       "layout": {
        "barmode": "relative",
        "legend": {
         "tracegroupgap": 0
        },
        "margin": {
         "t": 60
        },
        "template": {
         "data": {
          "bar": [
           {
            "error_x": {
             "color": "#2a3f5f"
            },
            "error_y": {
             "color": "#2a3f5f"
            },
            "marker": {
             "line": {
              "color": "#E5ECF6",
              "width": 0.5
             },
             "pattern": {
              "fillmode": "overlay",
              "size": 10,
              "solidity": 0.2
             }
            },
            "type": "bar"
           }
          ],
          "barpolar": [
           {
            "marker": {
             "line": {
              "color": "#E5ECF6",
              "width": 0.5
             },
             "pattern": {
              "fillmode": "overlay",
              "size": 10,
              "solidity": 0.2
             }
            },
            "type": "barpolar"
           }
          ],
          "carpet": [
           {
            "aaxis": {
             "endlinecolor": "#2a3f5f",
             "gridcolor": "white",
             "linecolor": "white",
             "minorgridcolor": "white",
             "startlinecolor": "#2a3f5f"
            },
            "baxis": {
             "endlinecolor": "#2a3f5f",
             "gridcolor": "white",
             "linecolor": "white",
             "minorgridcolor": "white",
             "startlinecolor": "#2a3f5f"
            },
            "type": "carpet"
           }
          ],
          "choropleth": [
           {
            "colorbar": {
             "outlinewidth": 0,
             "ticks": ""
            },
            "type": "choropleth"
           }
          ],
          "contour": [
           {
            "colorbar": {
             "outlinewidth": 0,
             "ticks": ""
            },
            "colorscale": [
             [
              0,
              "#0d0887"
             ],
             [
              0.1111111111111111,
              "#46039f"
             ],
             [
              0.2222222222222222,
              "#7201a8"
             ],
             [
              0.3333333333333333,
              "#9c179e"
             ],
             [
              0.4444444444444444,
              "#bd3786"
             ],
             [
              0.5555555555555556,
              "#d8576b"
             ],
             [
              0.6666666666666666,
              "#ed7953"
             ],
             [
              0.7777777777777778,
              "#fb9f3a"
             ],
             [
              0.8888888888888888,
              "#fdca26"
             ],
             [
              1,
              "#f0f921"
             ]
            ],
            "type": "contour"
           }
          ],
          "contourcarpet": [
           {
            "colorbar": {
             "outlinewidth": 0,
             "ticks": ""
            },
            "type": "contourcarpet"
           }
          ],
          "heatmap": [
           {
            "colorbar": {
             "outlinewidth": 0,
             "ticks": ""
            },
            "colorscale": [
             [
              0,
              "#0d0887"
             ],
             [
              0.1111111111111111,
              "#46039f"
             ],
             [
              0.2222222222222222,
              "#7201a8"
             ],
             [
              0.3333333333333333,
              "#9c179e"
             ],
             [
              0.4444444444444444,
              "#bd3786"
             ],
             [
              0.5555555555555556,
              "#d8576b"
             ],
             [
              0.6666666666666666,
              "#ed7953"
             ],
             [
              0.7777777777777778,
              "#fb9f3a"
             ],
             [
              0.8888888888888888,
              "#fdca26"
             ],
             [
              1,
              "#f0f921"
             ]
            ],
            "type": "heatmap"
           }
          ],
          "heatmapgl": [
           {
            "colorbar": {
             "outlinewidth": 0,
             "ticks": ""
            },
            "colorscale": [
             [
              0,
              "#0d0887"
             ],
             [
              0.1111111111111111,
              "#46039f"
             ],
             [
              0.2222222222222222,
              "#7201a8"
             ],
             [
              0.3333333333333333,
              "#9c179e"
             ],
             [
              0.4444444444444444,
              "#bd3786"
             ],
             [
              0.5555555555555556,
              "#d8576b"
             ],
             [
              0.6666666666666666,
              "#ed7953"
             ],
             [
              0.7777777777777778,
              "#fb9f3a"
             ],
             [
              0.8888888888888888,
              "#fdca26"
             ],
             [
              1,
              "#f0f921"
             ]
            ],
            "type": "heatmapgl"
           }
          ],
          "histogram": [
           {
            "marker": {
             "pattern": {
              "fillmode": "overlay",
              "size": 10,
              "solidity": 0.2
             }
            },
            "type": "histogram"
           }
          ],
          "histogram2d": [
           {
            "colorbar": {
             "outlinewidth": 0,
             "ticks": ""
            },
            "colorscale": [
             [
              0,
              "#0d0887"
             ],
             [
              0.1111111111111111,
              "#46039f"
             ],
             [
              0.2222222222222222,
              "#7201a8"
             ],
             [
              0.3333333333333333,
              "#9c179e"
             ],
             [
              0.4444444444444444,
              "#bd3786"
             ],
             [
              0.5555555555555556,
              "#d8576b"
             ],
             [
              0.6666666666666666,
              "#ed7953"
             ],
             [
              0.7777777777777778,
              "#fb9f3a"
             ],
             [
              0.8888888888888888,
              "#fdca26"
             ],
             [
              1,
              "#f0f921"
             ]
            ],
            "type": "histogram2d"
           }
          ],
          "histogram2dcontour": [
           {
            "colorbar": {
             "outlinewidth": 0,
             "ticks": ""
            },
            "colorscale": [
             [
              0,
              "#0d0887"
             ],
             [
              0.1111111111111111,
              "#46039f"
             ],
             [
              0.2222222222222222,
              "#7201a8"
             ],
             [
              0.3333333333333333,
              "#9c179e"
             ],
             [
              0.4444444444444444,
              "#bd3786"
             ],
             [
              0.5555555555555556,
              "#d8576b"
             ],
             [
              0.6666666666666666,
              "#ed7953"
             ],
             [
              0.7777777777777778,
              "#fb9f3a"
             ],
             [
              0.8888888888888888,
              "#fdca26"
             ],
             [
              1,
              "#f0f921"
             ]
            ],
            "type": "histogram2dcontour"
           }
          ],
          "mesh3d": [
           {
            "colorbar": {
             "outlinewidth": 0,
             "ticks": ""
            },
            "type": "mesh3d"
           }
          ],
          "parcoords": [
           {
            "line": {
             "colorbar": {
              "outlinewidth": 0,
              "ticks": ""
             }
            },
            "type": "parcoords"
           }
          ],
          "pie": [
           {
            "automargin": true,
            "type": "pie"
           }
          ],
          "scatter": [
           {
            "fillpattern": {
             "fillmode": "overlay",
             "size": 10,
             "solidity": 0.2
            },
            "type": "scatter"
           }
          ],
          "scatter3d": [
           {
            "line": {
             "colorbar": {
              "outlinewidth": 0,
              "ticks": ""
             }
            },
            "marker": {
             "colorbar": {
              "outlinewidth": 0,
              "ticks": ""
             }
            },
            "type": "scatter3d"
           }
          ],
          "scattercarpet": [
           {
            "marker": {
             "colorbar": {
              "outlinewidth": 0,
              "ticks": ""
             }
            },
            "type": "scattercarpet"
           }
          ],
          "scattergeo": [
           {
            "marker": {
             "colorbar": {
              "outlinewidth": 0,
              "ticks": ""
             }
            },
            "type": "scattergeo"
           }
          ],
          "scattergl": [
           {
            "marker": {
             "colorbar": {
              "outlinewidth": 0,
              "ticks": ""
             }
            },
            "type": "scattergl"
           }
          ],
          "scattermapbox": [
           {
            "marker": {
             "colorbar": {
              "outlinewidth": 0,
              "ticks": ""
             }
            },
            "type": "scattermapbox"
           }
          ],
          "scatterpolar": [
           {
            "marker": {
             "colorbar": {
              "outlinewidth": 0,
              "ticks": ""
             }
            },
            "type": "scatterpolar"
           }
          ],
          "scatterpolargl": [
           {
            "marker": {
             "colorbar": {
              "outlinewidth": 0,
              "ticks": ""
             }
            },
            "type": "scatterpolargl"
           }
          ],
          "scatterternary": [
           {
            "marker": {
             "colorbar": {
              "outlinewidth": 0,
              "ticks": ""
             }
            },
            "type": "scatterternary"
           }
          ],
          "surface": [
           {
            "colorbar": {
             "outlinewidth": 0,
             "ticks": ""
            },
            "colorscale": [
             [
              0,
              "#0d0887"
             ],
             [
              0.1111111111111111,
              "#46039f"
             ],
             [
              0.2222222222222222,
              "#7201a8"
             ],
             [
              0.3333333333333333,
              "#9c179e"
             ],
             [
              0.4444444444444444,
              "#bd3786"
             ],
             [
              0.5555555555555556,
              "#d8576b"
             ],
             [
              0.6666666666666666,
              "#ed7953"
             ],
             [
              0.7777777777777778,
              "#fb9f3a"
             ],
             [
              0.8888888888888888,
              "#fdca26"
             ],
             [
              1,
              "#f0f921"
             ]
            ],
            "type": "surface"
           }
          ],
          "table": [
           {
            "cells": {
             "fill": {
              "color": "#EBF0F8"
             },
             "line": {
              "color": "white"
             }
            },
            "header": {
             "fill": {
              "color": "#C8D4E3"
             },
             "line": {
              "color": "white"
             }
            },
            "type": "table"
           }
          ]
         },
         "layout": {
          "annotationdefaults": {
           "arrowcolor": "#2a3f5f",
           "arrowhead": 0,
           "arrowwidth": 1
          },
          "autotypenumbers": "strict",
          "coloraxis": {
           "colorbar": {
            "outlinewidth": 0,
            "ticks": ""
           }
          },
          "colorscale": {
           "diverging": [
            [
             0,
             "#8e0152"
            ],
            [
             0.1,
             "#c51b7d"
            ],
            [
             0.2,
             "#de77ae"
            ],
            [
             0.3,
             "#f1b6da"
            ],
            [
             0.4,
             "#fde0ef"
            ],
            [
             0.5,
             "#f7f7f7"
            ],
            [
             0.6,
             "#e6f5d0"
            ],
            [
             0.7,
             "#b8e186"
            ],
            [
             0.8,
             "#7fbc41"
            ],
            [
             0.9,
             "#4d9221"
            ],
            [
             1,
             "#276419"
            ]
           ],
           "sequential": [
            [
             0,
             "#0d0887"
            ],
            [
             0.1111111111111111,
             "#46039f"
            ],
            [
             0.2222222222222222,
             "#7201a8"
            ],
            [
             0.3333333333333333,
             "#9c179e"
            ],
            [
             0.4444444444444444,
             "#bd3786"
            ],
            [
             0.5555555555555556,
             "#d8576b"
            ],
            [
             0.6666666666666666,
             "#ed7953"
            ],
            [
             0.7777777777777778,
             "#fb9f3a"
            ],
            [
             0.8888888888888888,
             "#fdca26"
            ],
            [
             1,
             "#f0f921"
            ]
           ],
           "sequentialminus": [
            [
             0,
             "#0d0887"
            ],
            [
             0.1111111111111111,
             "#46039f"
            ],
            [
             0.2222222222222222,
             "#7201a8"
            ],
            [
             0.3333333333333333,
             "#9c179e"
            ],
            [
             0.4444444444444444,
             "#bd3786"
            ],
            [
             0.5555555555555556,
             "#d8576b"
            ],
            [
             0.6666666666666666,
             "#ed7953"
            ],
            [
             0.7777777777777778,
             "#fb9f3a"
            ],
            [
             0.8888888888888888,
             "#fdca26"
            ],
            [
             1,
             "#f0f921"
            ]
           ]
          },
          "colorway": [
           "#636efa",
           "#EF553B",
           "#00cc96",
           "#ab63fa",
           "#FFA15A",
           "#19d3f3",
           "#FF6692",
           "#B6E880",
           "#FF97FF",
           "#FECB52"
          ],
          "font": {
           "color": "#2a3f5f"
          },
          "geo": {
           "bgcolor": "white",
           "lakecolor": "white",
           "landcolor": "#E5ECF6",
           "showlakes": true,
           "showland": true,
           "subunitcolor": "white"
          },
          "hoverlabel": {
           "align": "left"
          },
          "hovermode": "closest",
          "mapbox": {
           "style": "light"
          },
          "paper_bgcolor": "white",
          "plot_bgcolor": "#E5ECF6",
          "polar": {
           "angularaxis": {
            "gridcolor": "white",
            "linecolor": "white",
            "ticks": ""
           },
           "bgcolor": "#E5ECF6",
           "radialaxis": {
            "gridcolor": "white",
            "linecolor": "white",
            "ticks": ""
           }
          },
          "scene": {
           "xaxis": {
            "backgroundcolor": "#E5ECF6",
            "gridcolor": "white",
            "gridwidth": 2,
            "linecolor": "white",
            "showbackground": true,
            "ticks": "",
            "zerolinecolor": "white"
           },
           "yaxis": {
            "backgroundcolor": "#E5ECF6",
            "gridcolor": "white",
            "gridwidth": 2,
            "linecolor": "white",
            "showbackground": true,
            "ticks": "",
            "zerolinecolor": "white"
           },
           "zaxis": {
            "backgroundcolor": "#E5ECF6",
            "gridcolor": "white",
            "gridwidth": 2,
            "linecolor": "white",
            "showbackground": true,
            "ticks": "",
            "zerolinecolor": "white"
           }
          },
          "shapedefaults": {
           "line": {
            "color": "#2a3f5f"
           }
          },
          "ternary": {
           "aaxis": {
            "gridcolor": "white",
            "linecolor": "white",
            "ticks": ""
           },
           "baxis": {
            "gridcolor": "white",
            "linecolor": "white",
            "ticks": ""
           },
           "bgcolor": "#E5ECF6",
           "caxis": {
            "gridcolor": "white",
            "linecolor": "white",
            "ticks": ""
           }
          },
          "title": {
           "x": 0.05
          },
          "xaxis": {
           "automargin": true,
           "gridcolor": "white",
           "linecolor": "white",
           "ticks": "",
           "title": {
            "standoff": 15
           },
           "zerolinecolor": "white",
           "zerolinewidth": 2
          },
          "yaxis": {
           "automargin": true,
           "gridcolor": "white",
           "linecolor": "white",
           "ticks": "",
           "title": {
            "standoff": 15
           },
           "zerolinecolor": "white",
           "zerolinewidth": 2
          }
         }
        },
        "title": {
         "text": "Distancias recorridas Densidad"
        },
        "xaxis": {
         "anchor": "y",
         "domain": [
          0,
          1
         ],
         "title": {
          "text": "distance"
         }
        },
        "xaxis2": {
         "anchor": "y2",
         "domain": [
          0,
          1
         ],
         "matches": "x",
         "showgrid": true,
         "showticklabels": false
        },
        "yaxis": {
         "anchor": "x",
         "domain": [
          0,
          0.8316
         ],
         "title": {
          "text": "count"
         }
        },
        "yaxis2": {
         "anchor": "x2",
         "domain": [
          0.8416,
          1
         ],
         "matches": "y2",
         "showgrid": false,
         "showline": false,
         "showticklabels": false,
         "ticks": ""
        }
       }
      }
     },
     "metadata": {},
     "output_type": "display_data"
    },
    {
     "data": {
      "application/vnd.plotly.v1+json": {
       "config": {
        "plotlyServerURL": "https://plot.ly"
       },
       "data": [
        {
         "alignmentgroup": "True",
         "hovertemplate": "gas_type=%{x}<br>distance=%{y}<extra></extra>",
         "legendgroup": "E10",
         "marker": {
          "color": "#636efa"
         },
         "name": "E10",
         "notched": false,
         "offsetgroup": "E10",
         "orientation": "v",
         "showlegend": true,
         "type": "box",
         "x": [
          "E10",
          "E10",
          "E10",
          "E10",
          "E10",
          "E10",
          "E10",
          "E10",
          "E10",
          "E10",
          "E10",
          "E10",
          "E10",
          "E10",
          "E10",
          "E10",
          "E10",
          "E10",
          "E10",
          "E10",
          "E10",
          "E10",
          "E10",
          "E10",
          "E10",
          "E10",
          "E10",
          "E10",
          "E10",
          "E10",
          "E10",
          "E10",
          "E10",
          "E10",
          "E10",
          "E10",
          "E10",
          "E10",
          "E10",
          "E10",
          "E10",
          "E10",
          "E10",
          "E10",
          "E10",
          "E10",
          "E10",
          "E10",
          "E10",
          "E10",
          "E10",
          "E10",
          "E10",
          "E10",
          "E10",
          "E10",
          "E10",
          "E10",
          "E10",
          "E10",
          "E10",
          "E10",
          "E10",
          "E10",
          "E10",
          "E10",
          "E10",
          "E10",
          "E10",
          "E10",
          "E10",
          "E10",
          "E10",
          "E10",
          "E10",
          "E10",
          "E10",
          "E10",
          "E10",
          "E10",
          "E10",
          "E10",
          "E10",
          "E10",
          "E10",
          "E10",
          "E10",
          "E10",
          "E10",
          "E10",
          "E10",
          "E10",
          "E10",
          "E10",
          "E10",
          "E10",
          "E10",
          "E10",
          "E10",
          "E10",
          "E10",
          "E10",
          "E10",
          "E10",
          "E10",
          "E10",
          "E10",
          "E10",
          "E10",
          "E10",
          "E10",
          "E10",
          "E10",
          "E10",
          "E10",
          "E10",
          "E10",
          "E10",
          "E10",
          "E10",
          "E10",
          "E10",
          "E10",
          "E10",
          "E10",
          "E10",
          "E10",
          "E10",
          "E10",
          "E10",
          "E10",
          "E10",
          "E10",
          "E10",
          "E10",
          "E10",
          "E10",
          "E10",
          "E10",
          "E10",
          "E10",
          "E10",
          "E10",
          "E10",
          "E10",
          "E10",
          "E10",
          "E10",
          "E10",
          "E10",
          "E10",
          "E10",
          "E10",
          "E10",
          "E10",
          "E10",
          "E10",
          "E10",
          "E10",
          "E10"
         ],
         "x0": " ",
         "xaxis": "x",
         "y": [
          28,
          12,
          11.2,
          12.9,
          18.5,
          8.3,
          7.8,
          12.3,
          4.9,
          11.9,
          12.4,
          11.8,
          12.3,
          24.7,
          12.4,
          17.3,
          33.4,
          11.8,
          25.9,
          11.8,
          25.3,
          14.2,
          17.9,
          11.8,
          12.3,
          12.4,
          18.4,
          18.4,
          18.3,
          18.4,
          12.3,
          11.8,
          12.3,
          32.6,
          19,
          12.1,
          20,
          4.9,
          11.8,
          12.3,
          12.4,
          4.5,
          11.7,
          10.2,
          16.1,
          11.8,
          12.3,
          12.4,
          7,
          11.8,
          20.1,
          20.8,
          1.7,
          35.9,
          36.9,
          16.8,
          9.9,
          22.9,
          17.3,
          11.8,
          36.6,
          44.9,
          11.8,
          21.6,
          39.4,
          5.1,
          26.6,
          53.2,
          18.9,
          43.5,
          6.1,
          16.4,
          12.3,
          21.1,
          21.1,
          22.7,
          44.4,
          35.8,
          11.8,
          26.2,
          40.6,
          12.4,
          14.1,
          58.7,
          16.2,
          12.3,
          12.3,
          12.4,
          31.8,
          12.3,
          51.6,
          38.6,
          12.3,
          81.2,
          130.3,
          67.2,
          19,
          12.4,
          25.2,
          14.3,
          11.8,
          16.9,
          12.4,
          17.4,
          9.2,
          12.3,
          13,
          11.8,
          13,
          12.3,
          12.3,
          12.5,
          31.5,
          11.8,
          24.9,
          17,
          2,
          11.8,
          7.4,
          12.4,
          2,
          14,
          25.7,
          24.5,
          11.8,
          4.1,
          4.2,
          4.2,
          16,
          22.9,
          16,
          15.4,
          16,
          4.2,
          101.9,
          93.9,
          16.6,
          15.4,
          16.5,
          15.4,
          18.4,
          39.5,
          21.5,
          4.8,
          100.9,
          129.7,
          16.6,
          15.4,
          16,
          16,
          15.4,
          16,
          21,
          15.4,
          16,
          16.1,
          16,
          15.4,
          17.2,
          16.6
         ],
         "y0": " ",
         "yaxis": "y"
        },
        {
         "alignmentgroup": "True",
         "hovertemplate": "gas_type=%{x}<br>distance=%{y}<extra></extra>",
         "legendgroup": "SP98",
         "marker": {
          "color": "#EF553B"
         },
         "name": "SP98",
         "notched": false,
         "offsetgroup": "SP98",
         "orientation": "v",
         "showlegend": true,
         "type": "box",
         "x": [
          "SP98",
          "SP98",
          "SP98",
          "SP98",
          "SP98",
          "SP98",
          "SP98",
          "SP98",
          "SP98",
          "SP98",
          "SP98",
          "SP98",
          "SP98",
          "SP98",
          "SP98",
          "SP98",
          "SP98",
          "SP98",
          "SP98",
          "SP98",
          "SP98",
          "SP98",
          "SP98",
          "SP98",
          "SP98",
          "SP98",
          "SP98",
          "SP98",
          "SP98",
          "SP98",
          "SP98",
          "SP98",
          "SP98",
          "SP98",
          "SP98",
          "SP98",
          "SP98",
          "SP98",
          "SP98",
          "SP98",
          "SP98",
          "SP98",
          "SP98",
          "SP98",
          "SP98",
          "SP98",
          "SP98",
          "SP98",
          "SP98",
          "SP98",
          "SP98",
          "SP98",
          "SP98",
          "SP98",
          "SP98",
          "SP98",
          "SP98",
          "SP98",
          "SP98",
          "SP98",
          "SP98",
          "SP98",
          "SP98",
          "SP98",
          "SP98",
          "SP98",
          "SP98",
          "SP98",
          "SP98",
          "SP98",
          "SP98",
          "SP98",
          "SP98",
          "SP98",
          "SP98",
          "SP98",
          "SP98",
          "SP98",
          "SP98",
          "SP98",
          "SP98",
          "SP98",
          "SP98",
          "SP98",
          "SP98",
          "SP98",
          "SP98",
          "SP98",
          "SP98",
          "SP98",
          "SP98",
          "SP98",
          "SP98",
          "SP98",
          "SP98",
          "SP98",
          "SP98",
          "SP98",
          "SP98",
          "SP98",
          "SP98",
          "SP98",
          "SP98",
          "SP98",
          "SP98",
          "SP98",
          "SP98",
          "SP98",
          "SP98",
          "SP98",
          "SP98",
          "SP98",
          "SP98",
          "SP98",
          "SP98",
          "SP98",
          "SP98",
          "SP98",
          "SP98",
          "SP98",
          "SP98",
          "SP98",
          "SP98",
          "SP98",
          "SP98",
          "SP98",
          "SP98",
          "SP98",
          "SP98",
          "SP98",
          "SP98",
          "SP98",
          "SP98",
          "SP98",
          "SP98",
          "SP98",
          "SP98",
          "SP98",
          "SP98",
          "SP98",
          "SP98",
          "SP98",
          "SP98",
          "SP98",
          "SP98",
          "SP98",
          "SP98",
          "SP98",
          "SP98",
          "SP98",
          "SP98",
          "SP98",
          "SP98",
          "SP98",
          "SP98",
          "SP98",
          "SP98",
          "SP98",
          "SP98",
          "SP98",
          "SP98",
          "SP98",
          "SP98",
          "SP98",
          "SP98",
          "SP98",
          "SP98",
          "SP98",
          "SP98",
          "SP98",
          "SP98",
          "SP98",
          "SP98",
          "SP98",
          "SP98",
          "SP98",
          "SP98",
          "SP98",
          "SP98",
          "SP98",
          "SP98",
          "SP98",
          "SP98",
          "SP98",
          "SP98",
          "SP98",
          "SP98",
          "SP98",
          "SP98",
          "SP98",
          "SP98",
          "SP98",
          "SP98",
          "SP98",
          "SP98",
          "SP98",
          "SP98",
          "SP98",
          "SP98",
          "SP98",
          "SP98",
          "SP98",
          "SP98",
          "SP98",
          "SP98",
          "SP98",
          "SP98",
          "SP98",
          "SP98",
          "SP98",
          "SP98",
          "SP98",
          "SP98",
          "SP98",
          "SP98",
          "SP98",
          "SP98",
          "SP98",
          "SP98",
          "SP98",
          "SP98",
          "SP98",
          "SP98",
          "SP98",
          "SP98",
          "SP98",
          "SP98",
          "SP98"
         ],
         "x0": " ",
         "xaxis": "x",
         "y": [
          5.4,
          2,
          14.2,
          16,
          11.8,
          27.3,
          11.8,
          10.6,
          11.6,
          13.1,
          6.1,
          153.5,
          11.8,
          12.3,
          12.4,
          12.3,
          2.9,
          2.1,
          9.8,
          6.8,
          12.4,
          12.4,
          11.8,
          12.3,
          14,
          11.8,
          12.3,
          2,
          13.9,
          9.7,
          11.6,
          14.2,
          11.8,
          24.8,
          12.4,
          34.8,
          14.2,
          5.2,
          10.5,
          12.3,
          11.8,
          12.3,
          13.2,
          13,
          12.9,
          13.9,
          11.8,
          12.2,
          12.5,
          12.4,
          11.8,
          11.8,
          12.5,
          15.7,
          12.9,
          6.4,
          5.3,
          26.2,
          18.8,
          4.9,
          12.4,
          22.9,
          162.7,
          4.9,
          11.8,
          16.6,
          12.4,
          15.9,
          5.1,
          22.4,
          31.1,
          4.9,
          11.8,
          22.9,
          12.4,
          12.9,
          11.8,
          12.2,
          24.8,
          14.2,
          11.8,
          12.2,
          24.7,
          6.8,
          17.3,
          11.8,
          15.9,
          5.1,
          16.1,
          11.8,
          4.2,
          17.4,
          23.5,
          11.8,
          12.3,
          43.7,
          12.1,
          56.1,
          39,
          11.8,
          38.5,
          28.2,
          2.9,
          6.1,
          19.6,
          22.2,
          13.6,
          12.6,
          8.7,
          7.9,
          2.4,
          4.9,
          18.1,
          25.9,
          1.3,
          14.1,
          13.4,
          6.4,
          12.9,
          12.1,
          15.7,
          16.2,
          12.8,
          19,
          29,
          12.1,
          12.3,
          24.8,
          12.9,
          11.8,
          31.4,
          19,
          13,
          11.8,
          13,
          11.8,
          27.1,
          5.2,
          25.7,
          16,
          16.1,
          16,
          16,
          24.7,
          16,
          15.4,
          16,
          32.1,
          25.9,
          48.6,
          37.2,
          28.8,
          6.7,
          7.4,
          17.3,
          6.6,
          14.3,
          13.3,
          8.3,
          12.7,
          16.5,
          20.6,
          16.3,
          18.7,
          36.5,
          19,
          16.6,
          29.9,
          16,
          21.1,
          16,
          11.9,
          10.1,
          31.9,
          18.7,
          10.8,
          19.8,
          11.3,
          11.5,
          21.4,
          32,
          41.9,
          211,
          216.1,
          25.5,
          16.6,
          25.9,
          16.5,
          22.1,
          18.3,
          16.1,
          16,
          16.3,
          16,
          18.3,
          4.5,
          17,
          6.1,
          6.1,
          17.3,
          6,
          16,
          15.4,
          15.4,
          16,
          15.4,
          16.6,
          15.4,
          16,
          15.4,
          16,
          20.9,
          32.1,
          15.3,
          28.5,
          11.9,
          14.5,
          16.6,
          16.2,
          16.7,
          8.3,
          5.5,
          13.6,
          16,
          16.1,
          16,
          15.4,
          14.7
         ],
         "y0": " ",
         "yaxis": "y"
        }
       ],
       "layout": {
        "boxmode": "overlay",
        "legend": {
         "title": {
          "text": "gas_type"
         },
         "tracegroupgap": 0
        },
        "margin": {
         "t": 60
        },
        "template": {
         "data": {
          "bar": [
           {
            "error_x": {
             "color": "#2a3f5f"
            },
            "error_y": {
             "color": "#2a3f5f"
            },
            "marker": {
             "line": {
              "color": "#E5ECF6",
              "width": 0.5
             },
             "pattern": {
              "fillmode": "overlay",
              "size": 10,
              "solidity": 0.2
             }
            },
            "type": "bar"
           }
          ],
          "barpolar": [
           {
            "marker": {
             "line": {
              "color": "#E5ECF6",
              "width": 0.5
             },
             "pattern": {
              "fillmode": "overlay",
              "size": 10,
              "solidity": 0.2
             }
            },
            "type": "barpolar"
           }
          ],
          "carpet": [
           {
            "aaxis": {
             "endlinecolor": "#2a3f5f",
             "gridcolor": "white",
             "linecolor": "white",
             "minorgridcolor": "white",
             "startlinecolor": "#2a3f5f"
            },
            "baxis": {
             "endlinecolor": "#2a3f5f",
             "gridcolor": "white",
             "linecolor": "white",
             "minorgridcolor": "white",
             "startlinecolor": "#2a3f5f"
            },
            "type": "carpet"
           }
          ],
          "choropleth": [
           {
            "colorbar": {
             "outlinewidth": 0,
             "ticks": ""
            },
            "type": "choropleth"
           }
          ],
          "contour": [
           {
            "colorbar": {
             "outlinewidth": 0,
             "ticks": ""
            },
            "colorscale": [
             [
              0,
              "#0d0887"
             ],
             [
              0.1111111111111111,
              "#46039f"
             ],
             [
              0.2222222222222222,
              "#7201a8"
             ],
             [
              0.3333333333333333,
              "#9c179e"
             ],
             [
              0.4444444444444444,
              "#bd3786"
             ],
             [
              0.5555555555555556,
              "#d8576b"
             ],
             [
              0.6666666666666666,
              "#ed7953"
             ],
             [
              0.7777777777777778,
              "#fb9f3a"
             ],
             [
              0.8888888888888888,
              "#fdca26"
             ],
             [
              1,
              "#f0f921"
             ]
            ],
            "type": "contour"
           }
          ],
          "contourcarpet": [
           {
            "colorbar": {
             "outlinewidth": 0,
             "ticks": ""
            },
            "type": "contourcarpet"
           }
          ],
          "heatmap": [
           {
            "colorbar": {
             "outlinewidth": 0,
             "ticks": ""
            },
            "colorscale": [
             [
              0,
              "#0d0887"
             ],
             [
              0.1111111111111111,
              "#46039f"
             ],
             [
              0.2222222222222222,
              "#7201a8"
             ],
             [
              0.3333333333333333,
              "#9c179e"
             ],
             [
              0.4444444444444444,
              "#bd3786"
             ],
             [
              0.5555555555555556,
              "#d8576b"
             ],
             [
              0.6666666666666666,
              "#ed7953"
             ],
             [
              0.7777777777777778,
              "#fb9f3a"
             ],
             [
              0.8888888888888888,
              "#fdca26"
             ],
             [
              1,
              "#f0f921"
             ]
            ],
            "type": "heatmap"
           }
          ],
          "heatmapgl": [
           {
            "colorbar": {
             "outlinewidth": 0,
             "ticks": ""
            },
            "colorscale": [
             [
              0,
              "#0d0887"
             ],
             [
              0.1111111111111111,
              "#46039f"
             ],
             [
              0.2222222222222222,
              "#7201a8"
             ],
             [
              0.3333333333333333,
              "#9c179e"
             ],
             [
              0.4444444444444444,
              "#bd3786"
             ],
             [
              0.5555555555555556,
              "#d8576b"
             ],
             [
              0.6666666666666666,
              "#ed7953"
             ],
             [
              0.7777777777777778,
              "#fb9f3a"
             ],
             [
              0.8888888888888888,
              "#fdca26"
             ],
             [
              1,
              "#f0f921"
             ]
            ],
            "type": "heatmapgl"
           }
          ],
          "histogram": [
           {
            "marker": {
             "pattern": {
              "fillmode": "overlay",
              "size": 10,
              "solidity": 0.2
             }
            },
            "type": "histogram"
           }
          ],
          "histogram2d": [
           {
            "colorbar": {
             "outlinewidth": 0,
             "ticks": ""
            },
            "colorscale": [
             [
              0,
              "#0d0887"
             ],
             [
              0.1111111111111111,
              "#46039f"
             ],
             [
              0.2222222222222222,
              "#7201a8"
             ],
             [
              0.3333333333333333,
              "#9c179e"
             ],
             [
              0.4444444444444444,
              "#bd3786"
             ],
             [
              0.5555555555555556,
              "#d8576b"
             ],
             [
              0.6666666666666666,
              "#ed7953"
             ],
             [
              0.7777777777777778,
              "#fb9f3a"
             ],
             [
              0.8888888888888888,
              "#fdca26"
             ],
             [
              1,
              "#f0f921"
             ]
            ],
            "type": "histogram2d"
           }
          ],
          "histogram2dcontour": [
           {
            "colorbar": {
             "outlinewidth": 0,
             "ticks": ""
            },
            "colorscale": [
             [
              0,
              "#0d0887"
             ],
             [
              0.1111111111111111,
              "#46039f"
             ],
             [
              0.2222222222222222,
              "#7201a8"
             ],
             [
              0.3333333333333333,
              "#9c179e"
             ],
             [
              0.4444444444444444,
              "#bd3786"
             ],
             [
              0.5555555555555556,
              "#d8576b"
             ],
             [
              0.6666666666666666,
              "#ed7953"
             ],
             [
              0.7777777777777778,
              "#fb9f3a"
             ],
             [
              0.8888888888888888,
              "#fdca26"
             ],
             [
              1,
              "#f0f921"
             ]
            ],
            "type": "histogram2dcontour"
           }
          ],
          "mesh3d": [
           {
            "colorbar": {
             "outlinewidth": 0,
             "ticks": ""
            },
            "type": "mesh3d"
           }
          ],
          "parcoords": [
           {
            "line": {
             "colorbar": {
              "outlinewidth": 0,
              "ticks": ""
             }
            },
            "type": "parcoords"
           }
          ],
          "pie": [
           {
            "automargin": true,
            "type": "pie"
           }
          ],
          "scatter": [
           {
            "fillpattern": {
             "fillmode": "overlay",
             "size": 10,
             "solidity": 0.2
            },
            "type": "scatter"
           }
          ],
          "scatter3d": [
           {
            "line": {
             "colorbar": {
              "outlinewidth": 0,
              "ticks": ""
             }
            },
            "marker": {
             "colorbar": {
              "outlinewidth": 0,
              "ticks": ""
             }
            },
            "type": "scatter3d"
           }
          ],
          "scattercarpet": [
           {
            "marker": {
             "colorbar": {
              "outlinewidth": 0,
              "ticks": ""
             }
            },
            "type": "scattercarpet"
           }
          ],
          "scattergeo": [
           {
            "marker": {
             "colorbar": {
              "outlinewidth": 0,
              "ticks": ""
             }
            },
            "type": "scattergeo"
           }
          ],
          "scattergl": [
           {
            "marker": {
             "colorbar": {
              "outlinewidth": 0,
              "ticks": ""
             }
            },
            "type": "scattergl"
           }
          ],
          "scattermapbox": [
           {
            "marker": {
             "colorbar": {
              "outlinewidth": 0,
              "ticks": ""
             }
            },
            "type": "scattermapbox"
           }
          ],
          "scatterpolar": [
           {
            "marker": {
             "colorbar": {
              "outlinewidth": 0,
              "ticks": ""
             }
            },
            "type": "scatterpolar"
           }
          ],
          "scatterpolargl": [
           {
            "marker": {
             "colorbar": {
              "outlinewidth": 0,
              "ticks": ""
             }
            },
            "type": "scatterpolargl"
           }
          ],
          "scatterternary": [
           {
            "marker": {
             "colorbar": {
              "outlinewidth": 0,
              "ticks": ""
             }
            },
            "type": "scatterternary"
           }
          ],
          "surface": [
           {
            "colorbar": {
             "outlinewidth": 0,
             "ticks": ""
            },
            "colorscale": [
             [
              0,
              "#0d0887"
             ],
             [
              0.1111111111111111,
              "#46039f"
             ],
             [
              0.2222222222222222,
              "#7201a8"
             ],
             [
              0.3333333333333333,
              "#9c179e"
             ],
             [
              0.4444444444444444,
              "#bd3786"
             ],
             [
              0.5555555555555556,
              "#d8576b"
             ],
             [
              0.6666666666666666,
              "#ed7953"
             ],
             [
              0.7777777777777778,
              "#fb9f3a"
             ],
             [
              0.8888888888888888,
              "#fdca26"
             ],
             [
              1,
              "#f0f921"
             ]
            ],
            "type": "surface"
           }
          ],
          "table": [
           {
            "cells": {
             "fill": {
              "color": "#EBF0F8"
             },
             "line": {
              "color": "white"
             }
            },
            "header": {
             "fill": {
              "color": "#C8D4E3"
             },
             "line": {
              "color": "white"
             }
            },
            "type": "table"
           }
          ]
         },
         "layout": {
          "annotationdefaults": {
           "arrowcolor": "#2a3f5f",
           "arrowhead": 0,
           "arrowwidth": 1
          },
          "autotypenumbers": "strict",
          "coloraxis": {
           "colorbar": {
            "outlinewidth": 0,
            "ticks": ""
           }
          },
          "colorscale": {
           "diverging": [
            [
             0,
             "#8e0152"
            ],
            [
             0.1,
             "#c51b7d"
            ],
            [
             0.2,
             "#de77ae"
            ],
            [
             0.3,
             "#f1b6da"
            ],
            [
             0.4,
             "#fde0ef"
            ],
            [
             0.5,
             "#f7f7f7"
            ],
            [
             0.6,
             "#e6f5d0"
            ],
            [
             0.7,
             "#b8e186"
            ],
            [
             0.8,
             "#7fbc41"
            ],
            [
             0.9,
             "#4d9221"
            ],
            [
             1,
             "#276419"
            ]
           ],
           "sequential": [
            [
             0,
             "#0d0887"
            ],
            [
             0.1111111111111111,
             "#46039f"
            ],
            [
             0.2222222222222222,
             "#7201a8"
            ],
            [
             0.3333333333333333,
             "#9c179e"
            ],
            [
             0.4444444444444444,
             "#bd3786"
            ],
            [
             0.5555555555555556,
             "#d8576b"
            ],
            [
             0.6666666666666666,
             "#ed7953"
            ],
            [
             0.7777777777777778,
             "#fb9f3a"
            ],
            [
             0.8888888888888888,
             "#fdca26"
            ],
            [
             1,
             "#f0f921"
            ]
           ],
           "sequentialminus": [
            [
             0,
             "#0d0887"
            ],
            [
             0.1111111111111111,
             "#46039f"
            ],
            [
             0.2222222222222222,
             "#7201a8"
            ],
            [
             0.3333333333333333,
             "#9c179e"
            ],
            [
             0.4444444444444444,
             "#bd3786"
            ],
            [
             0.5555555555555556,
             "#d8576b"
            ],
            [
             0.6666666666666666,
             "#ed7953"
            ],
            [
             0.7777777777777778,
             "#fb9f3a"
            ],
            [
             0.8888888888888888,
             "#fdca26"
            ],
            [
             1,
             "#f0f921"
            ]
           ]
          },
          "colorway": [
           "#636efa",
           "#EF553B",
           "#00cc96",
           "#ab63fa",
           "#FFA15A",
           "#19d3f3",
           "#FF6692",
           "#B6E880",
           "#FF97FF",
           "#FECB52"
          ],
          "font": {
           "color": "#2a3f5f"
          },
          "geo": {
           "bgcolor": "white",
           "lakecolor": "white",
           "landcolor": "#E5ECF6",
           "showlakes": true,
           "showland": true,
           "subunitcolor": "white"
          },
          "hoverlabel": {
           "align": "left"
          },
          "hovermode": "closest",
          "mapbox": {
           "style": "light"
          },
          "paper_bgcolor": "white",
          "plot_bgcolor": "#E5ECF6",
          "polar": {
           "angularaxis": {
            "gridcolor": "white",
            "linecolor": "white",
            "ticks": ""
           },
           "bgcolor": "#E5ECF6",
           "radialaxis": {
            "gridcolor": "white",
            "linecolor": "white",
            "ticks": ""
           }
          },
          "scene": {
           "xaxis": {
            "backgroundcolor": "#E5ECF6",
            "gridcolor": "white",
            "gridwidth": 2,
            "linecolor": "white",
            "showbackground": true,
            "ticks": "",
            "zerolinecolor": "white"
           },
           "yaxis": {
            "backgroundcolor": "#E5ECF6",
            "gridcolor": "white",
            "gridwidth": 2,
            "linecolor": "white",
            "showbackground": true,
            "ticks": "",
            "zerolinecolor": "white"
           },
           "zaxis": {
            "backgroundcolor": "#E5ECF6",
            "gridcolor": "white",
            "gridwidth": 2,
            "linecolor": "white",
            "showbackground": true,
            "ticks": "",
            "zerolinecolor": "white"
           }
          },
          "shapedefaults": {
           "line": {
            "color": "#2a3f5f"
           }
          },
          "ternary": {
           "aaxis": {
            "gridcolor": "white",
            "linecolor": "white",
            "ticks": ""
           },
           "baxis": {
            "gridcolor": "white",
            "linecolor": "white",
            "ticks": ""
           },
           "bgcolor": "#E5ECF6",
           "caxis": {
            "gridcolor": "white",
            "linecolor": "white",
            "ticks": ""
           }
          },
          "title": {
           "x": 0.05
          },
          "xaxis": {
           "automargin": true,
           "gridcolor": "white",
           "linecolor": "white",
           "ticks": "",
           "title": {
            "standoff": 15
           },
           "zerolinecolor": "white",
           "zerolinewidth": 2
          },
          "yaxis": {
           "automargin": true,
           "gridcolor": "white",
           "linecolor": "white",
           "ticks": "",
           "title": {
            "standoff": 15
           },
           "zerolinecolor": "white",
           "zerolinewidth": 2
          }
         }
        },
        "title": {
         "text": "Gráfico de caja de la distancia recorrida por tipo de gas"
        },
        "xaxis": {
         "anchor": "y",
         "categoryarray": [
          "E10",
          "SP98"
         ],
         "categoryorder": "array",
         "domain": [
          0,
          1
         ],
         "title": {
          "text": "gas_type"
         }
        },
        "yaxis": {
         "anchor": "x",
         "domain": [
          0,
          1
         ],
         "title": {
          "text": "distance"
         }
        }
       }
      }
     },
     "metadata": {},
     "output_type": "display_data"
    }
   ],
   "source": [
    "# visualizaciones interactivas con Plotly:\n",
    "fig_distance_boxplot = px.box(data, y=\"distance\", color_discrete_sequence=[\"blue\"])\n",
    "fig_distance_boxplot.add_trace(px.strip(data, y=\"distance\", color_discrete_sequence=[\"blue\"]).data[0])\n",
    "fig_distance_boxplot.update_layout(title=\"Box Plot de las distancias recorridas\")\n",
    "fig_distance_boxplot.show()\n",
    "\n",
    "fig_distance_density = px.histogram(data, x=\"distance\", marginal=\"rug\", nbins=30)\n",
    "fig_distance_density.update_layout(title=\"Distancias recorridas Densidad\")\n",
    "fig_distance_density.show()\n",
    "\n",
    "fig_distance_by_gas = px.box(data, x=\"gas_type\", y=\"distance\", color=\"gas_type\")\n",
    "fig_distance_by_gas.update_layout(title=\"Gráfico de caja de la distancia recorrida por tipo de gas\")\n",
    "fig_distance_by_gas.show()"
   ]
  },
  {
   "cell_type": "code",
   "execution_count": 101,
   "id": "642c62d9",
   "metadata": {},
   "outputs": [
    {
     "data": {
      "text/plain": [
       "'La **distancia media recorrida es de 18,76 km.** La **distancia media** recorrida cuando se utiliza **E10 (14,15 km)** es mayor que cuando se utiliza **SP98 (11,60 km)**.\\n'"
      ]
     },
     "execution_count": 101,
     "metadata": {},
     "output_type": "execute_result"
    }
   ],
   "source": [
    "'''La **distancia media recorrida es de 18,76 km.** La **distancia media** recorrida cuando se utiliza **E10 (14,15 km)** es mayor que cuando se utiliza **SP98 (11,60 km)**.\n",
    "'''"
   ]
  },
  {
   "cell_type": "code",
   "execution_count": 102,
   "id": "460385a1",
   "metadata": {},
   "outputs": [
    {
     "data": {
      "application/vnd.plotly.v1+json": {
       "config": {
        "plotlyServerURL": "https://plot.ly"
       },
       "data": [
        {
         "alignmentgroup": "True",
         "hovertemplate": "consume=%{y}<extra></extra>",
         "jitter": 0.3,
         "legendgroup": "",
         "marker": {
          "color": "blue",
          "size": 5
         },
         "name": "",
         "notched": false,
         "offsetgroup": "",
         "orientation": "v",
         "showlegend": false,
         "type": "box",
         "x0": " ",
         "xaxis": "x",
         "y": [
          5,
          4.2,
          5.5,
          3.9,
          4.5,
          6.4,
          4.4,
          5,
          6.4,
          5.3,
          5.6,
          4.6,
          5.9,
          5.1,
          4.7,
          5.1,
          5.6,
          5.1,
          4.9,
          4.7,
          5.5,
          5.9,
          5.7,
          4.7,
          5.9,
          4.1,
          5.7,
          5.8,
          5.5,
          5.7,
          5.3,
          5,
          5.6,
          4.8,
          4.3,
          5.7,
          5.2,
          7.4,
          4.8,
          6.5,
          4,
          5,
          4.6,
          4.3,
          3.3,
          9.9,
          5.1,
          4.9,
          4.9,
          4.7,
          5.1,
          4.9,
          4.2,
          6.1,
          6.4,
          4.9,
          4.9,
          6.2,
          4.2,
          5.7,
          7.9,
          12.2,
          5.8,
          5.3,
          5.4,
          4.7,
          4.6,
          5.4,
          4.3,
          4.5,
          5.2,
          6.2,
          5.1,
          3.9,
          5,
          5.4,
          4.5,
          5.1,
          4.7,
          4,
          5.4,
          4.5,
          3.6,
          5.2,
          4.9,
          6.2,
          4.3,
          5,
          5.1,
          5.6,
          4.3,
          5.8,
          4,
          4.7,
          5.9,
          5.3,
          4.2,
          5.3,
          5.7,
          4.4,
          4.1,
          5.8,
          5,
          6.9,
          5.4,
          5.3,
          5.5,
          6.5,
          4.7,
          5.1,
          5.7,
          5.4,
          8.7,
          4.9,
          4.7,
          6.3,
          5.1,
          6,
          4.6,
          5.8,
          5.1,
          5.8,
          4.6,
          5.6,
          4.6,
          6.3,
          5.5,
          4.3,
          5.6,
          4.3,
          5.7,
          6.4,
          4.5,
          4.5,
          6,
          5.1,
          6,
          4.5,
          6.1,
          5.4,
          4.3,
          5.4,
          4.3,
          5.2,
          4.1,
          4.4,
          4.5,
          10.8,
          4.7,
          4.8,
          4,
          5,
          4.6,
          5,
          4.3,
          5.2,
          4.7,
          4.2,
          5.3,
          5.3,
          8.1,
          4.8,
          5.1,
          4.4,
          5,
          6.3,
          4.8,
          6.1,
          4.6,
          4.8,
          4.7,
          4.8,
          4.4,
          4.9,
          4.9,
          4.4,
          5.3,
          5.3,
          4.8,
          5.2,
          4.9,
          7.1,
          5.2,
          4.7,
          5.1,
          5,
          4.6,
          4.8,
          4.4,
          4.6,
          4.3,
          4.7,
          4.2,
          4.8,
          4.1,
          4.5,
          4.8,
          4.6,
          7.4,
          5.6,
          4.9,
          3.8,
          4.5,
          4.1,
          5.3,
          4.7,
          9,
          6.3,
          3.6,
          3.7,
          11.5,
          5,
          5.5,
          4.7,
          4.5,
          4.4,
          4.1,
          4.4,
          4.6,
          4.4,
          4,
          5,
          5.2,
          4,
          5.1,
          4.5,
          4.6,
          5.1,
          5.7,
          4.8,
          6.2,
          5,
          5,
          4.6,
          4.5,
          4.8,
          5,
          4.8,
          4.6,
          4.5,
          4.6,
          4.4,
          5.7,
          5.8,
          5.9,
          6.1,
          5.7,
          5,
          5.2,
          4.3,
          4.1,
          4.4,
          4.5,
          3.9,
          8.1,
          4.4,
          5,
          4.7,
          6,
          5,
          5,
          3.9,
          4.5,
          5.4,
          5.6,
          3.9,
          4,
          4,
          3.8,
          4.5,
          3.8,
          5.6,
          5.2,
          4.8,
          4.9,
          4.1,
          4.5,
          4.4,
          4.5,
          4.5,
          3.9,
          4.6,
          3.8,
          4.5,
          4.4,
          4.3,
          4,
          3.9,
          5,
          4.1,
          4.1,
          5.6,
          4.1,
          4.6,
          4.9,
          4.5,
          4.1,
          4.1,
          4.5,
          4.2,
          3.9,
          5,
          4.4,
          4.5,
          3.8,
          5.1,
          3.9,
          5.3,
          4.2,
          4.3,
          4,
          4.7,
          4,
          4.3,
          5.3,
          5.2,
          4.9,
          4.7,
          4.6,
          5.3,
          3.6,
          4.2,
          4.1,
          4,
          3.9,
          3.7,
          4.5,
          3.9,
          5.1,
          4.2,
          4.2,
          4.8,
          4.7,
          4.7,
          4.6,
          3.8,
          4.2,
          3.7,
          4.2,
          4.1,
          4,
          3.8,
          3.8,
          3.8,
          5.1,
          4,
          4.8,
          3.9,
          4.6,
          4.3,
          4.8,
          4.1,
          4,
          3.7,
          4.3,
          5.2,
          4.2,
          5,
          5,
          4.2,
          4.8,
          4.1,
          4.9,
          4.3,
          3.9,
          4.5,
          4.1,
          5,
          4,
          4.5,
          3.6,
          4.1,
          3.9,
          6.6,
          4,
          3.7,
          4.3,
          4.1,
          4.4,
          3.8,
          5,
          3.7,
          3.7,
          3.7,
          4.3,
          3.8,
          4.6,
          5
         ],
         "y0": " ",
         "yaxis": "y"
        }
       ],
       "layout": {
        "boxmode": "group",
        "legend": {
         "tracegroupgap": 0
        },
        "margin": {
         "t": 60
        },
        "template": {
         "data": {
          "bar": [
           {
            "error_x": {
             "color": "#2a3f5f"
            },
            "error_y": {
             "color": "#2a3f5f"
            },
            "marker": {
             "line": {
              "color": "#E5ECF6",
              "width": 0.5
             },
             "pattern": {
              "fillmode": "overlay",
              "size": 10,
              "solidity": 0.2
             }
            },
            "type": "bar"
           }
          ],
          "barpolar": [
           {
            "marker": {
             "line": {
              "color": "#E5ECF6",
              "width": 0.5
             },
             "pattern": {
              "fillmode": "overlay",
              "size": 10,
              "solidity": 0.2
             }
            },
            "type": "barpolar"
           }
          ],
          "carpet": [
           {
            "aaxis": {
             "endlinecolor": "#2a3f5f",
             "gridcolor": "white",
             "linecolor": "white",
             "minorgridcolor": "white",
             "startlinecolor": "#2a3f5f"
            },
            "baxis": {
             "endlinecolor": "#2a3f5f",
             "gridcolor": "white",
             "linecolor": "white",
             "minorgridcolor": "white",
             "startlinecolor": "#2a3f5f"
            },
            "type": "carpet"
           }
          ],
          "choropleth": [
           {
            "colorbar": {
             "outlinewidth": 0,
             "ticks": ""
            },
            "type": "choropleth"
           }
          ],
          "contour": [
           {
            "colorbar": {
             "outlinewidth": 0,
             "ticks": ""
            },
            "colorscale": [
             [
              0,
              "#0d0887"
             ],
             [
              0.1111111111111111,
              "#46039f"
             ],
             [
              0.2222222222222222,
              "#7201a8"
             ],
             [
              0.3333333333333333,
              "#9c179e"
             ],
             [
              0.4444444444444444,
              "#bd3786"
             ],
             [
              0.5555555555555556,
              "#d8576b"
             ],
             [
              0.6666666666666666,
              "#ed7953"
             ],
             [
              0.7777777777777778,
              "#fb9f3a"
             ],
             [
              0.8888888888888888,
              "#fdca26"
             ],
             [
              1,
              "#f0f921"
             ]
            ],
            "type": "contour"
           }
          ],
          "contourcarpet": [
           {
            "colorbar": {
             "outlinewidth": 0,
             "ticks": ""
            },
            "type": "contourcarpet"
           }
          ],
          "heatmap": [
           {
            "colorbar": {
             "outlinewidth": 0,
             "ticks": ""
            },
            "colorscale": [
             [
              0,
              "#0d0887"
             ],
             [
              0.1111111111111111,
              "#46039f"
             ],
             [
              0.2222222222222222,
              "#7201a8"
             ],
             [
              0.3333333333333333,
              "#9c179e"
             ],
             [
              0.4444444444444444,
              "#bd3786"
             ],
             [
              0.5555555555555556,
              "#d8576b"
             ],
             [
              0.6666666666666666,
              "#ed7953"
             ],
             [
              0.7777777777777778,
              "#fb9f3a"
             ],
             [
              0.8888888888888888,
              "#fdca26"
             ],
             [
              1,
              "#f0f921"
             ]
            ],
            "type": "heatmap"
           }
          ],
          "heatmapgl": [
           {
            "colorbar": {
             "outlinewidth": 0,
             "ticks": ""
            },
            "colorscale": [
             [
              0,
              "#0d0887"
             ],
             [
              0.1111111111111111,
              "#46039f"
             ],
             [
              0.2222222222222222,
              "#7201a8"
             ],
             [
              0.3333333333333333,
              "#9c179e"
             ],
             [
              0.4444444444444444,
              "#bd3786"
             ],
             [
              0.5555555555555556,
              "#d8576b"
             ],
             [
              0.6666666666666666,
              "#ed7953"
             ],
             [
              0.7777777777777778,
              "#fb9f3a"
             ],
             [
              0.8888888888888888,
              "#fdca26"
             ],
             [
              1,
              "#f0f921"
             ]
            ],
            "type": "heatmapgl"
           }
          ],
          "histogram": [
           {
            "marker": {
             "pattern": {
              "fillmode": "overlay",
              "size": 10,
              "solidity": 0.2
             }
            },
            "type": "histogram"
           }
          ],
          "histogram2d": [
           {
            "colorbar": {
             "outlinewidth": 0,
             "ticks": ""
            },
            "colorscale": [
             [
              0,
              "#0d0887"
             ],
             [
              0.1111111111111111,
              "#46039f"
             ],
             [
              0.2222222222222222,
              "#7201a8"
             ],
             [
              0.3333333333333333,
              "#9c179e"
             ],
             [
              0.4444444444444444,
              "#bd3786"
             ],
             [
              0.5555555555555556,
              "#d8576b"
             ],
             [
              0.6666666666666666,
              "#ed7953"
             ],
             [
              0.7777777777777778,
              "#fb9f3a"
             ],
             [
              0.8888888888888888,
              "#fdca26"
             ],
             [
              1,
              "#f0f921"
             ]
            ],
            "type": "histogram2d"
           }
          ],
          "histogram2dcontour": [
           {
            "colorbar": {
             "outlinewidth": 0,
             "ticks": ""
            },
            "colorscale": [
             [
              0,
              "#0d0887"
             ],
             [
              0.1111111111111111,
              "#46039f"
             ],
             [
              0.2222222222222222,
              "#7201a8"
             ],
             [
              0.3333333333333333,
              "#9c179e"
             ],
             [
              0.4444444444444444,
              "#bd3786"
             ],
             [
              0.5555555555555556,
              "#d8576b"
             ],
             [
              0.6666666666666666,
              "#ed7953"
             ],
             [
              0.7777777777777778,
              "#fb9f3a"
             ],
             [
              0.8888888888888888,
              "#fdca26"
             ],
             [
              1,
              "#f0f921"
             ]
            ],
            "type": "histogram2dcontour"
           }
          ],
          "mesh3d": [
           {
            "colorbar": {
             "outlinewidth": 0,
             "ticks": ""
            },
            "type": "mesh3d"
           }
          ],
          "parcoords": [
           {
            "line": {
             "colorbar": {
              "outlinewidth": 0,
              "ticks": ""
             }
            },
            "type": "parcoords"
           }
          ],
          "pie": [
           {
            "automargin": true,
            "type": "pie"
           }
          ],
          "scatter": [
           {
            "fillpattern": {
             "fillmode": "overlay",
             "size": 10,
             "solidity": 0.2
            },
            "type": "scatter"
           }
          ],
          "scatter3d": [
           {
            "line": {
             "colorbar": {
              "outlinewidth": 0,
              "ticks": ""
             }
            },
            "marker": {
             "colorbar": {
              "outlinewidth": 0,
              "ticks": ""
             }
            },
            "type": "scatter3d"
           }
          ],
          "scattercarpet": [
           {
            "marker": {
             "colorbar": {
              "outlinewidth": 0,
              "ticks": ""
             }
            },
            "type": "scattercarpet"
           }
          ],
          "scattergeo": [
           {
            "marker": {
             "colorbar": {
              "outlinewidth": 0,
              "ticks": ""
             }
            },
            "type": "scattergeo"
           }
          ],
          "scattergl": [
           {
            "marker": {
             "colorbar": {
              "outlinewidth": 0,
              "ticks": ""
             }
            },
            "type": "scattergl"
           }
          ],
          "scattermapbox": [
           {
            "marker": {
             "colorbar": {
              "outlinewidth": 0,
              "ticks": ""
             }
            },
            "type": "scattermapbox"
           }
          ],
          "scatterpolar": [
           {
            "marker": {
             "colorbar": {
              "outlinewidth": 0,
              "ticks": ""
             }
            },
            "type": "scatterpolar"
           }
          ],
          "scatterpolargl": [
           {
            "marker": {
             "colorbar": {
              "outlinewidth": 0,
              "ticks": ""
             }
            },
            "type": "scatterpolargl"
           }
          ],
          "scatterternary": [
           {
            "marker": {
             "colorbar": {
              "outlinewidth": 0,
              "ticks": ""
             }
            },
            "type": "scatterternary"
           }
          ],
          "surface": [
           {
            "colorbar": {
             "outlinewidth": 0,
             "ticks": ""
            },
            "colorscale": [
             [
              0,
              "#0d0887"
             ],
             [
              0.1111111111111111,
              "#46039f"
             ],
             [
              0.2222222222222222,
              "#7201a8"
             ],
             [
              0.3333333333333333,
              "#9c179e"
             ],
             [
              0.4444444444444444,
              "#bd3786"
             ],
             [
              0.5555555555555556,
              "#d8576b"
             ],
             [
              0.6666666666666666,
              "#ed7953"
             ],
             [
              0.7777777777777778,
              "#fb9f3a"
             ],
             [
              0.8888888888888888,
              "#fdca26"
             ],
             [
              1,
              "#f0f921"
             ]
            ],
            "type": "surface"
           }
          ],
          "table": [
           {
            "cells": {
             "fill": {
              "color": "#EBF0F8"
             },
             "line": {
              "color": "white"
             }
            },
            "header": {
             "fill": {
              "color": "#C8D4E3"
             },
             "line": {
              "color": "white"
             }
            },
            "type": "table"
           }
          ]
         },
         "layout": {
          "annotationdefaults": {
           "arrowcolor": "#2a3f5f",
           "arrowhead": 0,
           "arrowwidth": 1
          },
          "autotypenumbers": "strict",
          "coloraxis": {
           "colorbar": {
            "outlinewidth": 0,
            "ticks": ""
           }
          },
          "colorscale": {
           "diverging": [
            [
             0,
             "#8e0152"
            ],
            [
             0.1,
             "#c51b7d"
            ],
            [
             0.2,
             "#de77ae"
            ],
            [
             0.3,
             "#f1b6da"
            ],
            [
             0.4,
             "#fde0ef"
            ],
            [
             0.5,
             "#f7f7f7"
            ],
            [
             0.6,
             "#e6f5d0"
            ],
            [
             0.7,
             "#b8e186"
            ],
            [
             0.8,
             "#7fbc41"
            ],
            [
             0.9,
             "#4d9221"
            ],
            [
             1,
             "#276419"
            ]
           ],
           "sequential": [
            [
             0,
             "#0d0887"
            ],
            [
             0.1111111111111111,
             "#46039f"
            ],
            [
             0.2222222222222222,
             "#7201a8"
            ],
            [
             0.3333333333333333,
             "#9c179e"
            ],
            [
             0.4444444444444444,
             "#bd3786"
            ],
            [
             0.5555555555555556,
             "#d8576b"
            ],
            [
             0.6666666666666666,
             "#ed7953"
            ],
            [
             0.7777777777777778,
             "#fb9f3a"
            ],
            [
             0.8888888888888888,
             "#fdca26"
            ],
            [
             1,
             "#f0f921"
            ]
           ],
           "sequentialminus": [
            [
             0,
             "#0d0887"
            ],
            [
             0.1111111111111111,
             "#46039f"
            ],
            [
             0.2222222222222222,
             "#7201a8"
            ],
            [
             0.3333333333333333,
             "#9c179e"
            ],
            [
             0.4444444444444444,
             "#bd3786"
            ],
            [
             0.5555555555555556,
             "#d8576b"
            ],
            [
             0.6666666666666666,
             "#ed7953"
            ],
            [
             0.7777777777777778,
             "#fb9f3a"
            ],
            [
             0.8888888888888888,
             "#fdca26"
            ],
            [
             1,
             "#f0f921"
            ]
           ]
          },
          "colorway": [
           "#636efa",
           "#EF553B",
           "#00cc96",
           "#ab63fa",
           "#FFA15A",
           "#19d3f3",
           "#FF6692",
           "#B6E880",
           "#FF97FF",
           "#FECB52"
          ],
          "font": {
           "color": "#2a3f5f"
          },
          "geo": {
           "bgcolor": "white",
           "lakecolor": "white",
           "landcolor": "#E5ECF6",
           "showlakes": true,
           "showland": true,
           "subunitcolor": "white"
          },
          "hoverlabel": {
           "align": "left"
          },
          "hovermode": "closest",
          "mapbox": {
           "style": "light"
          },
          "paper_bgcolor": "white",
          "plot_bgcolor": "#E5ECF6",
          "polar": {
           "angularaxis": {
            "gridcolor": "white",
            "linecolor": "white",
            "ticks": ""
           },
           "bgcolor": "#E5ECF6",
           "radialaxis": {
            "gridcolor": "white",
            "linecolor": "white",
            "ticks": ""
           }
          },
          "scene": {
           "xaxis": {
            "backgroundcolor": "#E5ECF6",
            "gridcolor": "white",
            "gridwidth": 2,
            "linecolor": "white",
            "showbackground": true,
            "ticks": "",
            "zerolinecolor": "white"
           },
           "yaxis": {
            "backgroundcolor": "#E5ECF6",
            "gridcolor": "white",
            "gridwidth": 2,
            "linecolor": "white",
            "showbackground": true,
            "ticks": "",
            "zerolinecolor": "white"
           },
           "zaxis": {
            "backgroundcolor": "#E5ECF6",
            "gridcolor": "white",
            "gridwidth": 2,
            "linecolor": "white",
            "showbackground": true,
            "ticks": "",
            "zerolinecolor": "white"
           }
          },
          "shapedefaults": {
           "line": {
            "color": "#2a3f5f"
           }
          },
          "ternary": {
           "aaxis": {
            "gridcolor": "white",
            "linecolor": "white",
            "ticks": ""
           },
           "baxis": {
            "gridcolor": "white",
            "linecolor": "white",
            "ticks": ""
           },
           "bgcolor": "#E5ECF6",
           "caxis": {
            "gridcolor": "white",
            "linecolor": "white",
            "ticks": ""
           }
          },
          "title": {
           "x": 0.05
          },
          "xaxis": {
           "automargin": true,
           "gridcolor": "white",
           "linecolor": "white",
           "ticks": "",
           "title": {
            "standoff": 15
           },
           "zerolinecolor": "white",
           "zerolinewidth": 2
          },
          "yaxis": {
           "automargin": true,
           "gridcolor": "white",
           "linecolor": "white",
           "ticks": "",
           "title": {
            "standoff": 15
           },
           "zerolinecolor": "white",
           "zerolinewidth": 2
          }
         }
        },
        "title": {
         "text": "Box Plot del Consumo de Gasolina en general"
        },
        "xaxis": {
         "anchor": "y",
         "domain": [
          0,
          1
         ]
        },
        "yaxis": {
         "anchor": "x",
         "domain": [
          0,
          1
         ],
         "title": {
          "text": "consume"
         }
        }
       }
      }
     },
     "metadata": {},
     "output_type": "display_data"
    }
   ],
   "source": [
    "# Box Plot del Consumo de Gasolina en general\n",
    "fig_consume_boxplot = px.box(data, y=\"consume\")\n",
    "fig_consume_boxplot.update_traces(marker_color=\"blue\", jitter=0.3, marker=dict(size=5))\n",
    "fig_consume_boxplot.update_layout(title=\"Box Plot del Consumo de Gasolina en general\")\n",
    "fig_consume_boxplot.show()"
   ]
  },
  {
   "cell_type": "code",
   "execution_count": 103,
   "id": "0f962eeb",
   "metadata": {},
   "outputs": [
    {
     "data": {
      "application/vnd.plotly.v1+json": {
       "config": {
        "plotlyServerURL": "https://plot.ly"
       },
       "data": [
        {
         "alignmentgroup": "True",
         "bingroup": "x",
         "hovertemplate": "consume=%{x}<br>count=%{y}<extra></extra>",
         "legendgroup": "",
         "marker": {
          "color": "#636efa",
          "pattern": {
           "shape": ""
          }
         },
         "name": "",
         "nbinsx": 30,
         "offsetgroup": "",
         "orientation": "v",
         "showlegend": false,
         "type": "histogram",
         "x": [
          5,
          4.2,
          5.5,
          3.9,
          4.5,
          6.4,
          4.4,
          5,
          6.4,
          5.3,
          5.6,
          4.6,
          5.9,
          5.1,
          4.7,
          5.1,
          5.6,
          5.1,
          4.9,
          4.7,
          5.5,
          5.9,
          5.7,
          4.7,
          5.9,
          4.1,
          5.7,
          5.8,
          5.5,
          5.7,
          5.3,
          5,
          5.6,
          4.8,
          4.3,
          5.7,
          5.2,
          7.4,
          4.8,
          6.5,
          4,
          5,
          4.6,
          4.3,
          3.3,
          9.9,
          5.1,
          4.9,
          4.9,
          4.7,
          5.1,
          4.9,
          4.2,
          6.1,
          6.4,
          4.9,
          4.9,
          6.2,
          4.2,
          5.7,
          7.9,
          12.2,
          5.8,
          5.3,
          5.4,
          4.7,
          4.6,
          5.4,
          4.3,
          4.5,
          5.2,
          6.2,
          5.1,
          3.9,
          5,
          5.4,
          4.5,
          5.1,
          4.7,
          4,
          5.4,
          4.5,
          3.6,
          5.2,
          4.9,
          6.2,
          4.3,
          5,
          5.1,
          5.6,
          4.3,
          5.8,
          4,
          4.7,
          5.9,
          5.3,
          4.2,
          5.3,
          5.7,
          4.4,
          4.1,
          5.8,
          5,
          6.9,
          5.4,
          5.3,
          5.5,
          6.5,
          4.7,
          5.1,
          5.7,
          5.4,
          8.7,
          4.9,
          4.7,
          6.3,
          5.1,
          6,
          4.6,
          5.8,
          5.1,
          5.8,
          4.6,
          5.6,
          4.6,
          6.3,
          5.5,
          4.3,
          5.6,
          4.3,
          5.7,
          6.4,
          4.5,
          4.5,
          6,
          5.1,
          6,
          4.5,
          6.1,
          5.4,
          4.3,
          5.4,
          4.3,
          5.2,
          4.1,
          4.4,
          4.5,
          10.8,
          4.7,
          4.8,
          4,
          5,
          4.6,
          5,
          4.3,
          5.2,
          4.7,
          4.2,
          5.3,
          5.3,
          8.1,
          4.8,
          5.1,
          4.4,
          5,
          6.3,
          4.8,
          6.1,
          4.6,
          4.8,
          4.7,
          4.8,
          4.4,
          4.9,
          4.9,
          4.4,
          5.3,
          5.3,
          4.8,
          5.2,
          4.9,
          7.1,
          5.2,
          4.7,
          5.1,
          5,
          4.6,
          4.8,
          4.4,
          4.6,
          4.3,
          4.7,
          4.2,
          4.8,
          4.1,
          4.5,
          4.8,
          4.6,
          7.4,
          5.6,
          4.9,
          3.8,
          4.5,
          4.1,
          5.3,
          4.7,
          9,
          6.3,
          3.6,
          3.7,
          11.5,
          5,
          5.5,
          4.7,
          4.5,
          4.4,
          4.1,
          4.4,
          4.6,
          4.4,
          4,
          5,
          5.2,
          4,
          5.1,
          4.5,
          4.6,
          5.1,
          5.7,
          4.8,
          6.2,
          5,
          5,
          4.6,
          4.5,
          4.8,
          5,
          4.8,
          4.6,
          4.5,
          4.6,
          4.4,
          5.7,
          5.8,
          5.9,
          6.1,
          5.7,
          5,
          5.2,
          4.3,
          4.1,
          4.4,
          4.5,
          3.9,
          8.1,
          4.4,
          5,
          4.7,
          6,
          5,
          5,
          3.9,
          4.5,
          5.4,
          5.6,
          3.9,
          4,
          4,
          3.8,
          4.5,
          3.8,
          5.6,
          5.2,
          4.8,
          4.9,
          4.1,
          4.5,
          4.4,
          4.5,
          4.5,
          3.9,
          4.6,
          3.8,
          4.5,
          4.4,
          4.3,
          4,
          3.9,
          5,
          4.1,
          4.1,
          5.6,
          4.1,
          4.6,
          4.9,
          4.5,
          4.1,
          4.1,
          4.5,
          4.2,
          3.9,
          5,
          4.4,
          4.5,
          3.8,
          5.1,
          3.9,
          5.3,
          4.2,
          4.3,
          4,
          4.7,
          4,
          4.3,
          5.3,
          5.2,
          4.9,
          4.7,
          4.6,
          5.3,
          3.6,
          4.2,
          4.1,
          4,
          3.9,
          3.7,
          4.5,
          3.9,
          5.1,
          4.2,
          4.2,
          4.8,
          4.7,
          4.7,
          4.6,
          3.8,
          4.2,
          3.7,
          4.2,
          4.1,
          4,
          3.8,
          3.8,
          3.8,
          5.1,
          4,
          4.8,
          3.9,
          4.6,
          4.3,
          4.8,
          4.1,
          4,
          3.7,
          4.3,
          5.2,
          4.2,
          5,
          5,
          4.2,
          4.8,
          4.1,
          4.9,
          4.3,
          3.9,
          4.5,
          4.1,
          5,
          4,
          4.5,
          3.6,
          4.1,
          3.9,
          6.6,
          4,
          3.7,
          4.3,
          4.1,
          4.4,
          3.8,
          5,
          3.7,
          3.7,
          3.7,
          4.3,
          3.8,
          4.6,
          5
         ],
         "xaxis": "x",
         "yaxis": "y"
        },
        {
         "alignmentgroup": "True",
         "boxpoints": "all",
         "fillcolor": "rgba(255,255,255,0)",
         "hoveron": "points",
         "hovertemplate": "consume=%{x}<extra></extra>",
         "jitter": 0,
         "legendgroup": "",
         "line": {
          "color": "rgba(255,255,255,0)"
         },
         "marker": {
          "color": "#636efa",
          "symbol": "line-ns-open"
         },
         "name": "",
         "offsetgroup": "",
         "showlegend": false,
         "type": "box",
         "x": [
          5,
          4.2,
          5.5,
          3.9,
          4.5,
          6.4,
          4.4,
          5,
          6.4,
          5.3,
          5.6,
          4.6,
          5.9,
          5.1,
          4.7,
          5.1,
          5.6,
          5.1,
          4.9,
          4.7,
          5.5,
          5.9,
          5.7,
          4.7,
          5.9,
          4.1,
          5.7,
          5.8,
          5.5,
          5.7,
          5.3,
          5,
          5.6,
          4.8,
          4.3,
          5.7,
          5.2,
          7.4,
          4.8,
          6.5,
          4,
          5,
          4.6,
          4.3,
          3.3,
          9.9,
          5.1,
          4.9,
          4.9,
          4.7,
          5.1,
          4.9,
          4.2,
          6.1,
          6.4,
          4.9,
          4.9,
          6.2,
          4.2,
          5.7,
          7.9,
          12.2,
          5.8,
          5.3,
          5.4,
          4.7,
          4.6,
          5.4,
          4.3,
          4.5,
          5.2,
          6.2,
          5.1,
          3.9,
          5,
          5.4,
          4.5,
          5.1,
          4.7,
          4,
          5.4,
          4.5,
          3.6,
          5.2,
          4.9,
          6.2,
          4.3,
          5,
          5.1,
          5.6,
          4.3,
          5.8,
          4,
          4.7,
          5.9,
          5.3,
          4.2,
          5.3,
          5.7,
          4.4,
          4.1,
          5.8,
          5,
          6.9,
          5.4,
          5.3,
          5.5,
          6.5,
          4.7,
          5.1,
          5.7,
          5.4,
          8.7,
          4.9,
          4.7,
          6.3,
          5.1,
          6,
          4.6,
          5.8,
          5.1,
          5.8,
          4.6,
          5.6,
          4.6,
          6.3,
          5.5,
          4.3,
          5.6,
          4.3,
          5.7,
          6.4,
          4.5,
          4.5,
          6,
          5.1,
          6,
          4.5,
          6.1,
          5.4,
          4.3,
          5.4,
          4.3,
          5.2,
          4.1,
          4.4,
          4.5,
          10.8,
          4.7,
          4.8,
          4,
          5,
          4.6,
          5,
          4.3,
          5.2,
          4.7,
          4.2,
          5.3,
          5.3,
          8.1,
          4.8,
          5.1,
          4.4,
          5,
          6.3,
          4.8,
          6.1,
          4.6,
          4.8,
          4.7,
          4.8,
          4.4,
          4.9,
          4.9,
          4.4,
          5.3,
          5.3,
          4.8,
          5.2,
          4.9,
          7.1,
          5.2,
          4.7,
          5.1,
          5,
          4.6,
          4.8,
          4.4,
          4.6,
          4.3,
          4.7,
          4.2,
          4.8,
          4.1,
          4.5,
          4.8,
          4.6,
          7.4,
          5.6,
          4.9,
          3.8,
          4.5,
          4.1,
          5.3,
          4.7,
          9,
          6.3,
          3.6,
          3.7,
          11.5,
          5,
          5.5,
          4.7,
          4.5,
          4.4,
          4.1,
          4.4,
          4.6,
          4.4,
          4,
          5,
          5.2,
          4,
          5.1,
          4.5,
          4.6,
          5.1,
          5.7,
          4.8,
          6.2,
          5,
          5,
          4.6,
          4.5,
          4.8,
          5,
          4.8,
          4.6,
          4.5,
          4.6,
          4.4,
          5.7,
          5.8,
          5.9,
          6.1,
          5.7,
          5,
          5.2,
          4.3,
          4.1,
          4.4,
          4.5,
          3.9,
          8.1,
          4.4,
          5,
          4.7,
          6,
          5,
          5,
          3.9,
          4.5,
          5.4,
          5.6,
          3.9,
          4,
          4,
          3.8,
          4.5,
          3.8,
          5.6,
          5.2,
          4.8,
          4.9,
          4.1,
          4.5,
          4.4,
          4.5,
          4.5,
          3.9,
          4.6,
          3.8,
          4.5,
          4.4,
          4.3,
          4,
          3.9,
          5,
          4.1,
          4.1,
          5.6,
          4.1,
          4.6,
          4.9,
          4.5,
          4.1,
          4.1,
          4.5,
          4.2,
          3.9,
          5,
          4.4,
          4.5,
          3.8,
          5.1,
          3.9,
          5.3,
          4.2,
          4.3,
          4,
          4.7,
          4,
          4.3,
          5.3,
          5.2,
          4.9,
          4.7,
          4.6,
          5.3,
          3.6,
          4.2,
          4.1,
          4,
          3.9,
          3.7,
          4.5,
          3.9,
          5.1,
          4.2,
          4.2,
          4.8,
          4.7,
          4.7,
          4.6,
          3.8,
          4.2,
          3.7,
          4.2,
          4.1,
          4,
          3.8,
          3.8,
          3.8,
          5.1,
          4,
          4.8,
          3.9,
          4.6,
          4.3,
          4.8,
          4.1,
          4,
          3.7,
          4.3,
          5.2,
          4.2,
          5,
          5,
          4.2,
          4.8,
          4.1,
          4.9,
          4.3,
          3.9,
          4.5,
          4.1,
          5,
          4,
          4.5,
          3.6,
          4.1,
          3.9,
          6.6,
          4,
          3.7,
          4.3,
          4.1,
          4.4,
          3.8,
          5,
          3.7,
          3.7,
          3.7,
          4.3,
          3.8,
          4.6,
          5
         ],
         "xaxis": "x2",
         "yaxis": "y2"
        }
       ],
       "layout": {
        "barmode": "relative",
        "legend": {
         "tracegroupgap": 0
        },
        "margin": {
         "t": 60
        },
        "template": {
         "data": {
          "bar": [
           {
            "error_x": {
             "color": "#2a3f5f"
            },
            "error_y": {
             "color": "#2a3f5f"
            },
            "marker": {
             "line": {
              "color": "#E5ECF6",
              "width": 0.5
             },
             "pattern": {
              "fillmode": "overlay",
              "size": 10,
              "solidity": 0.2
             }
            },
            "type": "bar"
           }
          ],
          "barpolar": [
           {
            "marker": {
             "line": {
              "color": "#E5ECF6",
              "width": 0.5
             },
             "pattern": {
              "fillmode": "overlay",
              "size": 10,
              "solidity": 0.2
             }
            },
            "type": "barpolar"
           }
          ],
          "carpet": [
           {
            "aaxis": {
             "endlinecolor": "#2a3f5f",
             "gridcolor": "white",
             "linecolor": "white",
             "minorgridcolor": "white",
             "startlinecolor": "#2a3f5f"
            },
            "baxis": {
             "endlinecolor": "#2a3f5f",
             "gridcolor": "white",
             "linecolor": "white",
             "minorgridcolor": "white",
             "startlinecolor": "#2a3f5f"
            },
            "type": "carpet"
           }
          ],
          "choropleth": [
           {
            "colorbar": {
             "outlinewidth": 0,
             "ticks": ""
            },
            "type": "choropleth"
           }
          ],
          "contour": [
           {
            "colorbar": {
             "outlinewidth": 0,
             "ticks": ""
            },
            "colorscale": [
             [
              0,
              "#0d0887"
             ],
             [
              0.1111111111111111,
              "#46039f"
             ],
             [
              0.2222222222222222,
              "#7201a8"
             ],
             [
              0.3333333333333333,
              "#9c179e"
             ],
             [
              0.4444444444444444,
              "#bd3786"
             ],
             [
              0.5555555555555556,
              "#d8576b"
             ],
             [
              0.6666666666666666,
              "#ed7953"
             ],
             [
              0.7777777777777778,
              "#fb9f3a"
             ],
             [
              0.8888888888888888,
              "#fdca26"
             ],
             [
              1,
              "#f0f921"
             ]
            ],
            "type": "contour"
           }
          ],
          "contourcarpet": [
           {
            "colorbar": {
             "outlinewidth": 0,
             "ticks": ""
            },
            "type": "contourcarpet"
           }
          ],
          "heatmap": [
           {
            "colorbar": {
             "outlinewidth": 0,
             "ticks": ""
            },
            "colorscale": [
             [
              0,
              "#0d0887"
             ],
             [
              0.1111111111111111,
              "#46039f"
             ],
             [
              0.2222222222222222,
              "#7201a8"
             ],
             [
              0.3333333333333333,
              "#9c179e"
             ],
             [
              0.4444444444444444,
              "#bd3786"
             ],
             [
              0.5555555555555556,
              "#d8576b"
             ],
             [
              0.6666666666666666,
              "#ed7953"
             ],
             [
              0.7777777777777778,
              "#fb9f3a"
             ],
             [
              0.8888888888888888,
              "#fdca26"
             ],
             [
              1,
              "#f0f921"
             ]
            ],
            "type": "heatmap"
           }
          ],
          "heatmapgl": [
           {
            "colorbar": {
             "outlinewidth": 0,
             "ticks": ""
            },
            "colorscale": [
             [
              0,
              "#0d0887"
             ],
             [
              0.1111111111111111,
              "#46039f"
             ],
             [
              0.2222222222222222,
              "#7201a8"
             ],
             [
              0.3333333333333333,
              "#9c179e"
             ],
             [
              0.4444444444444444,
              "#bd3786"
             ],
             [
              0.5555555555555556,
              "#d8576b"
             ],
             [
              0.6666666666666666,
              "#ed7953"
             ],
             [
              0.7777777777777778,
              "#fb9f3a"
             ],
             [
              0.8888888888888888,
              "#fdca26"
             ],
             [
              1,
              "#f0f921"
             ]
            ],
            "type": "heatmapgl"
           }
          ],
          "histogram": [
           {
            "marker": {
             "pattern": {
              "fillmode": "overlay",
              "size": 10,
              "solidity": 0.2
             }
            },
            "type": "histogram"
           }
          ],
          "histogram2d": [
           {
            "colorbar": {
             "outlinewidth": 0,
             "ticks": ""
            },
            "colorscale": [
             [
              0,
              "#0d0887"
             ],
             [
              0.1111111111111111,
              "#46039f"
             ],
             [
              0.2222222222222222,
              "#7201a8"
             ],
             [
              0.3333333333333333,
              "#9c179e"
             ],
             [
              0.4444444444444444,
              "#bd3786"
             ],
             [
              0.5555555555555556,
              "#d8576b"
             ],
             [
              0.6666666666666666,
              "#ed7953"
             ],
             [
              0.7777777777777778,
              "#fb9f3a"
             ],
             [
              0.8888888888888888,
              "#fdca26"
             ],
             [
              1,
              "#f0f921"
             ]
            ],
            "type": "histogram2d"
           }
          ],
          "histogram2dcontour": [
           {
            "colorbar": {
             "outlinewidth": 0,
             "ticks": ""
            },
            "colorscale": [
             [
              0,
              "#0d0887"
             ],
             [
              0.1111111111111111,
              "#46039f"
             ],
             [
              0.2222222222222222,
              "#7201a8"
             ],
             [
              0.3333333333333333,
              "#9c179e"
             ],
             [
              0.4444444444444444,
              "#bd3786"
             ],
             [
              0.5555555555555556,
              "#d8576b"
             ],
             [
              0.6666666666666666,
              "#ed7953"
             ],
             [
              0.7777777777777778,
              "#fb9f3a"
             ],
             [
              0.8888888888888888,
              "#fdca26"
             ],
             [
              1,
              "#f0f921"
             ]
            ],
            "type": "histogram2dcontour"
           }
          ],
          "mesh3d": [
           {
            "colorbar": {
             "outlinewidth": 0,
             "ticks": ""
            },
            "type": "mesh3d"
           }
          ],
          "parcoords": [
           {
            "line": {
             "colorbar": {
              "outlinewidth": 0,
              "ticks": ""
             }
            },
            "type": "parcoords"
           }
          ],
          "pie": [
           {
            "automargin": true,
            "type": "pie"
           }
          ],
          "scatter": [
           {
            "fillpattern": {
             "fillmode": "overlay",
             "size": 10,
             "solidity": 0.2
            },
            "type": "scatter"
           }
          ],
          "scatter3d": [
           {
            "line": {
             "colorbar": {
              "outlinewidth": 0,
              "ticks": ""
             }
            },
            "marker": {
             "colorbar": {
              "outlinewidth": 0,
              "ticks": ""
             }
            },
            "type": "scatter3d"
           }
          ],
          "scattercarpet": [
           {
            "marker": {
             "colorbar": {
              "outlinewidth": 0,
              "ticks": ""
             }
            },
            "type": "scattercarpet"
           }
          ],
          "scattergeo": [
           {
            "marker": {
             "colorbar": {
              "outlinewidth": 0,
              "ticks": ""
             }
            },
            "type": "scattergeo"
           }
          ],
          "scattergl": [
           {
            "marker": {
             "colorbar": {
              "outlinewidth": 0,
              "ticks": ""
             }
            },
            "type": "scattergl"
           }
          ],
          "scattermapbox": [
           {
            "marker": {
             "colorbar": {
              "outlinewidth": 0,
              "ticks": ""
             }
            },
            "type": "scattermapbox"
           }
          ],
          "scatterpolar": [
           {
            "marker": {
             "colorbar": {
              "outlinewidth": 0,
              "ticks": ""
             }
            },
            "type": "scatterpolar"
           }
          ],
          "scatterpolargl": [
           {
            "marker": {
             "colorbar": {
              "outlinewidth": 0,
              "ticks": ""
             }
            },
            "type": "scatterpolargl"
           }
          ],
          "scatterternary": [
           {
            "marker": {
             "colorbar": {
              "outlinewidth": 0,
              "ticks": ""
             }
            },
            "type": "scatterternary"
           }
          ],
          "surface": [
           {
            "colorbar": {
             "outlinewidth": 0,
             "ticks": ""
            },
            "colorscale": [
             [
              0,
              "#0d0887"
             ],
             [
              0.1111111111111111,
              "#46039f"
             ],
             [
              0.2222222222222222,
              "#7201a8"
             ],
             [
              0.3333333333333333,
              "#9c179e"
             ],
             [
              0.4444444444444444,
              "#bd3786"
             ],
             [
              0.5555555555555556,
              "#d8576b"
             ],
             [
              0.6666666666666666,
              "#ed7953"
             ],
             [
              0.7777777777777778,
              "#fb9f3a"
             ],
             [
              0.8888888888888888,
              "#fdca26"
             ],
             [
              1,
              "#f0f921"
             ]
            ],
            "type": "surface"
           }
          ],
          "table": [
           {
            "cells": {
             "fill": {
              "color": "#EBF0F8"
             },
             "line": {
              "color": "white"
             }
            },
            "header": {
             "fill": {
              "color": "#C8D4E3"
             },
             "line": {
              "color": "white"
             }
            },
            "type": "table"
           }
          ]
         },
         "layout": {
          "annotationdefaults": {
           "arrowcolor": "#2a3f5f",
           "arrowhead": 0,
           "arrowwidth": 1
          },
          "autotypenumbers": "strict",
          "coloraxis": {
           "colorbar": {
            "outlinewidth": 0,
            "ticks": ""
           }
          },
          "colorscale": {
           "diverging": [
            [
             0,
             "#8e0152"
            ],
            [
             0.1,
             "#c51b7d"
            ],
            [
             0.2,
             "#de77ae"
            ],
            [
             0.3,
             "#f1b6da"
            ],
            [
             0.4,
             "#fde0ef"
            ],
            [
             0.5,
             "#f7f7f7"
            ],
            [
             0.6,
             "#e6f5d0"
            ],
            [
             0.7,
             "#b8e186"
            ],
            [
             0.8,
             "#7fbc41"
            ],
            [
             0.9,
             "#4d9221"
            ],
            [
             1,
             "#276419"
            ]
           ],
           "sequential": [
            [
             0,
             "#0d0887"
            ],
            [
             0.1111111111111111,
             "#46039f"
            ],
            [
             0.2222222222222222,
             "#7201a8"
            ],
            [
             0.3333333333333333,
             "#9c179e"
            ],
            [
             0.4444444444444444,
             "#bd3786"
            ],
            [
             0.5555555555555556,
             "#d8576b"
            ],
            [
             0.6666666666666666,
             "#ed7953"
            ],
            [
             0.7777777777777778,
             "#fb9f3a"
            ],
            [
             0.8888888888888888,
             "#fdca26"
            ],
            [
             1,
             "#f0f921"
            ]
           ],
           "sequentialminus": [
            [
             0,
             "#0d0887"
            ],
            [
             0.1111111111111111,
             "#46039f"
            ],
            [
             0.2222222222222222,
             "#7201a8"
            ],
            [
             0.3333333333333333,
             "#9c179e"
            ],
            [
             0.4444444444444444,
             "#bd3786"
            ],
            [
             0.5555555555555556,
             "#d8576b"
            ],
            [
             0.6666666666666666,
             "#ed7953"
            ],
            [
             0.7777777777777778,
             "#fb9f3a"
            ],
            [
             0.8888888888888888,
             "#fdca26"
            ],
            [
             1,
             "#f0f921"
            ]
           ]
          },
          "colorway": [
           "#636efa",
           "#EF553B",
           "#00cc96",
           "#ab63fa",
           "#FFA15A",
           "#19d3f3",
           "#FF6692",
           "#B6E880",
           "#FF97FF",
           "#FECB52"
          ],
          "font": {
           "color": "#2a3f5f"
          },
          "geo": {
           "bgcolor": "white",
           "lakecolor": "white",
           "landcolor": "#E5ECF6",
           "showlakes": true,
           "showland": true,
           "subunitcolor": "white"
          },
          "hoverlabel": {
           "align": "left"
          },
          "hovermode": "closest",
          "mapbox": {
           "style": "light"
          },
          "paper_bgcolor": "white",
          "plot_bgcolor": "#E5ECF6",
          "polar": {
           "angularaxis": {
            "gridcolor": "white",
            "linecolor": "white",
            "ticks": ""
           },
           "bgcolor": "#E5ECF6",
           "radialaxis": {
            "gridcolor": "white",
            "linecolor": "white",
            "ticks": ""
           }
          },
          "scene": {
           "xaxis": {
            "backgroundcolor": "#E5ECF6",
            "gridcolor": "white",
            "gridwidth": 2,
            "linecolor": "white",
            "showbackground": true,
            "ticks": "",
            "zerolinecolor": "white"
           },
           "yaxis": {
            "backgroundcolor": "#E5ECF6",
            "gridcolor": "white",
            "gridwidth": 2,
            "linecolor": "white",
            "showbackground": true,
            "ticks": "",
            "zerolinecolor": "white"
           },
           "zaxis": {
            "backgroundcolor": "#E5ECF6",
            "gridcolor": "white",
            "gridwidth": 2,
            "linecolor": "white",
            "showbackground": true,
            "ticks": "",
            "zerolinecolor": "white"
           }
          },
          "shapedefaults": {
           "line": {
            "color": "#2a3f5f"
           }
          },
          "ternary": {
           "aaxis": {
            "gridcolor": "white",
            "linecolor": "white",
            "ticks": ""
           },
           "baxis": {
            "gridcolor": "white",
            "linecolor": "white",
            "ticks": ""
           },
           "bgcolor": "#E5ECF6",
           "caxis": {
            "gridcolor": "white",
            "linecolor": "white",
            "ticks": ""
           }
          },
          "title": {
           "x": 0.05
          },
          "xaxis": {
           "automargin": true,
           "gridcolor": "white",
           "linecolor": "white",
           "ticks": "",
           "title": {
            "standoff": 15
           },
           "zerolinecolor": "white",
           "zerolinewidth": 2
          },
          "yaxis": {
           "automargin": true,
           "gridcolor": "white",
           "linecolor": "white",
           "ticks": "",
           "title": {
            "standoff": 15
           },
           "zerolinecolor": "white",
           "zerolinewidth": 2
          }
         }
        },
        "title": {
         "text": "Densidad del Consumo de Gasolina en general"
        },
        "xaxis": {
         "anchor": "y",
         "domain": [
          0,
          1
         ],
         "title": {
          "text": "consume"
         }
        },
        "xaxis2": {
         "anchor": "y2",
         "domain": [
          0,
          1
         ],
         "matches": "x",
         "showgrid": true,
         "showticklabels": false
        },
        "yaxis": {
         "anchor": "x",
         "domain": [
          0,
          0.8316
         ],
         "title": {
          "text": "count"
         }
        },
        "yaxis2": {
         "anchor": "x2",
         "domain": [
          0.8416,
          1
         ],
         "matches": "y2",
         "showgrid": false,
         "showline": false,
         "showticklabels": false,
         "ticks": ""
        }
       }
      }
     },
     "metadata": {},
     "output_type": "display_data"
    }
   ],
   "source": [
    "# Densidad del Consumo de Gasolina en general\n",
    "fig_consume_density = px.histogram(data, x=\"consume\", nbins=30, marginal=\"rug\")\n",
    "fig_consume_density.update_layout(title=\"Densidad del Consumo de Gasolina en general\")\n",
    "fig_consume_density.show()"
   ]
  },
  {
   "cell_type": "code",
   "execution_count": 104,
   "id": "4c49e7e5",
   "metadata": {},
   "outputs": [
    {
     "name": "stdout",
     "output_type": "stream",
     "text": [
      "count    388.000000\n",
      "mean       4.912371\n",
      "std        1.033172\n",
      "min        3.300000\n",
      "25%        4.300000\n",
      "50%        4.700000\n",
      "75%        5.300000\n",
      "max       12.200000\n",
      "Name: consume, dtype: float64\n"
     ]
    }
   ],
   "source": [
    "# Resumen del Consumo de Gasolina\n",
    "summary_consume = data[\"consume\"].describe()\n",
    "print(summary_consume)"
   ]
  },
  {
   "cell_type": "code",
   "execution_count": 105,
   "id": "97c86234",
   "metadata": {},
   "outputs": [
    {
     "data": {
      "application/vnd.plotly.v1+json": {
       "config": {
        "plotlyServerURL": "https://plot.ly"
       },
       "data": [
        {
         "alignmentgroup": "True",
         "hovertemplate": "gas_type=%{x}<br>consume=%{y}<extra></extra>",
         "legendgroup": "E10",
         "marker": {
          "color": "rgb(27,158,119)"
         },
         "name": "E10",
         "notched": false,
         "offsetgroup": "E10",
         "orientation": "v",
         "showlegend": true,
         "type": "box",
         "x": [
          "E10",
          "E10",
          "E10",
          "E10",
          "E10",
          "E10",
          "E10",
          "E10",
          "E10",
          "E10",
          "E10",
          "E10",
          "E10",
          "E10",
          "E10",
          "E10",
          "E10",
          "E10",
          "E10",
          "E10",
          "E10",
          "E10",
          "E10",
          "E10",
          "E10",
          "E10",
          "E10",
          "E10",
          "E10",
          "E10",
          "E10",
          "E10",
          "E10",
          "E10",
          "E10",
          "E10",
          "E10",
          "E10",
          "E10",
          "E10",
          "E10",
          "E10",
          "E10",
          "E10",
          "E10",
          "E10",
          "E10",
          "E10",
          "E10",
          "E10",
          "E10",
          "E10",
          "E10",
          "E10",
          "E10",
          "E10",
          "E10",
          "E10",
          "E10",
          "E10",
          "E10",
          "E10",
          "E10",
          "E10",
          "E10",
          "E10",
          "E10",
          "E10",
          "E10",
          "E10",
          "E10",
          "E10",
          "E10",
          "E10",
          "E10",
          "E10",
          "E10",
          "E10",
          "E10",
          "E10",
          "E10",
          "E10",
          "E10",
          "E10",
          "E10",
          "E10",
          "E10",
          "E10",
          "E10",
          "E10",
          "E10",
          "E10",
          "E10",
          "E10",
          "E10",
          "E10",
          "E10",
          "E10",
          "E10",
          "E10",
          "E10",
          "E10",
          "E10",
          "E10",
          "E10",
          "E10",
          "E10",
          "E10",
          "E10",
          "E10",
          "E10",
          "E10",
          "E10",
          "E10",
          "E10",
          "E10",
          "E10",
          "E10",
          "E10",
          "E10",
          "E10",
          "E10",
          "E10",
          "E10",
          "E10",
          "E10",
          "E10",
          "E10",
          "E10",
          "E10",
          "E10",
          "E10",
          "E10",
          "E10",
          "E10",
          "E10",
          "E10",
          "E10",
          "E10",
          "E10",
          "E10",
          "E10",
          "E10",
          "E10",
          "E10",
          "E10",
          "E10",
          "E10",
          "E10",
          "E10",
          "E10",
          "E10",
          "E10",
          "E10",
          "E10",
          "E10",
          "E10",
          "E10",
          "E10",
          "E10"
         ],
         "x0": " ",
         "xaxis": "x",
         "y": [
          5,
          4.2,
          5.5,
          3.9,
          4.5,
          6.4,
          4.4,
          5,
          6.4,
          5.3,
          5.6,
          4.6,
          5.9,
          5.1,
          4.7,
          5.1,
          5.6,
          5.1,
          4.9,
          4.7,
          5.5,
          5.9,
          5.7,
          4.7,
          5.9,
          4.1,
          5.7,
          5.8,
          5.5,
          5.7,
          5.3,
          5,
          5.6,
          4.8,
          4.3,
          5.7,
          5.2,
          7.4,
          4.8,
          6.5,
          4,
          5,
          4.6,
          4.3,
          5.4,
          4.3,
          5.4,
          4.3,
          5.2,
          4.1,
          4.4,
          4.5,
          10.8,
          4.7,
          4.8,
          4,
          5,
          4.6,
          5,
          4.3,
          5.2,
          4.7,
          4.2,
          5.3,
          5.3,
          8.1,
          4.8,
          5.1,
          4.4,
          5,
          6.3,
          4.8,
          6.1,
          4.6,
          4.8,
          4.7,
          4.8,
          4.4,
          4.9,
          4.9,
          4.4,
          5.3,
          5.3,
          4.8,
          5.2,
          4.9,
          7.1,
          5.2,
          4.7,
          5.1,
          5,
          4.6,
          4.8,
          4.4,
          4.6,
          4.3,
          4.5,
          4.8,
          5,
          4.8,
          4.6,
          4.5,
          4.6,
          4.4,
          5.7,
          5.8,
          5.9,
          6.1,
          5.7,
          5,
          5.2,
          4.3,
          4.1,
          4.4,
          4.5,
          3.9,
          8.1,
          4.4,
          5,
          4.7,
          6,
          5,
          5,
          3.9,
          4.5,
          5.4,
          5.6,
          3.9,
          4,
          4,
          3.8,
          4.5,
          3.8,
          5.6,
          5.2,
          4.8,
          3.7,
          4.5,
          3.9,
          5.1,
          4.2,
          4.2,
          4.8,
          4.7,
          4.7,
          4.6,
          3.8,
          4.2,
          3.7,
          4.2,
          4.1,
          4,
          3.8,
          3.8,
          3.8,
          5.1,
          4,
          4.8,
          3.9,
          4.6
         ],
         "y0": " ",
         "yaxis": "y"
        },
        {
         "alignmentgroup": "True",
         "hovertemplate": "gas_type=%{x}<br>consume=%{y}<extra></extra>",
         "legendgroup": "SP98",
         "marker": {
          "color": "rgb(217,95,2)"
         },
         "name": "SP98",
         "notched": false,
         "offsetgroup": "SP98",
         "orientation": "v",
         "showlegend": true,
         "type": "box",
         "x": [
          "SP98",
          "SP98",
          "SP98",
          "SP98",
          "SP98",
          "SP98",
          "SP98",
          "SP98",
          "SP98",
          "SP98",
          "SP98",
          "SP98",
          "SP98",
          "SP98",
          "SP98",
          "SP98",
          "SP98",
          "SP98",
          "SP98",
          "SP98",
          "SP98",
          "SP98",
          "SP98",
          "SP98",
          "SP98",
          "SP98",
          "SP98",
          "SP98",
          "SP98",
          "SP98",
          "SP98",
          "SP98",
          "SP98",
          "SP98",
          "SP98",
          "SP98",
          "SP98",
          "SP98",
          "SP98",
          "SP98",
          "SP98",
          "SP98",
          "SP98",
          "SP98",
          "SP98",
          "SP98",
          "SP98",
          "SP98",
          "SP98",
          "SP98",
          "SP98",
          "SP98",
          "SP98",
          "SP98",
          "SP98",
          "SP98",
          "SP98",
          "SP98",
          "SP98",
          "SP98",
          "SP98",
          "SP98",
          "SP98",
          "SP98",
          "SP98",
          "SP98",
          "SP98",
          "SP98",
          "SP98",
          "SP98",
          "SP98",
          "SP98",
          "SP98",
          "SP98",
          "SP98",
          "SP98",
          "SP98",
          "SP98",
          "SP98",
          "SP98",
          "SP98",
          "SP98",
          "SP98",
          "SP98",
          "SP98",
          "SP98",
          "SP98",
          "SP98",
          "SP98",
          "SP98",
          "SP98",
          "SP98",
          "SP98",
          "SP98",
          "SP98",
          "SP98",
          "SP98",
          "SP98",
          "SP98",
          "SP98",
          "SP98",
          "SP98",
          "SP98",
          "SP98",
          "SP98",
          "SP98",
          "SP98",
          "SP98",
          "SP98",
          "SP98",
          "SP98",
          "SP98",
          "SP98",
          "SP98",
          "SP98",
          "SP98",
          "SP98",
          "SP98",
          "SP98",
          "SP98",
          "SP98",
          "SP98",
          "SP98",
          "SP98",
          "SP98",
          "SP98",
          "SP98",
          "SP98",
          "SP98",
          "SP98",
          "SP98",
          "SP98",
          "SP98",
          "SP98",
          "SP98",
          "SP98",
          "SP98",
          "SP98",
          "SP98",
          "SP98",
          "SP98",
          "SP98",
          "SP98",
          "SP98",
          "SP98",
          "SP98",
          "SP98",
          "SP98",
          "SP98",
          "SP98",
          "SP98",
          "SP98",
          "SP98",
          "SP98",
          "SP98",
          "SP98",
          "SP98",
          "SP98",
          "SP98",
          "SP98",
          "SP98",
          "SP98",
          "SP98",
          "SP98",
          "SP98",
          "SP98",
          "SP98",
          "SP98",
          "SP98",
          "SP98",
          "SP98",
          "SP98",
          "SP98",
          "SP98",
          "SP98",
          "SP98",
          "SP98",
          "SP98",
          "SP98",
          "SP98",
          "SP98",
          "SP98",
          "SP98",
          "SP98",
          "SP98",
          "SP98",
          "SP98",
          "SP98",
          "SP98",
          "SP98",
          "SP98",
          "SP98",
          "SP98",
          "SP98",
          "SP98",
          "SP98",
          "SP98",
          "SP98",
          "SP98",
          "SP98",
          "SP98",
          "SP98",
          "SP98",
          "SP98",
          "SP98",
          "SP98",
          "SP98",
          "SP98",
          "SP98",
          "SP98",
          "SP98",
          "SP98",
          "SP98",
          "SP98",
          "SP98",
          "SP98",
          "SP98",
          "SP98",
          "SP98",
          "SP98",
          "SP98",
          "SP98",
          "SP98",
          "SP98",
          "SP98",
          "SP98",
          "SP98",
          "SP98"
         ],
         "x0": " ",
         "xaxis": "x",
         "y": [
          3.3,
          9.9,
          5.1,
          4.9,
          4.9,
          4.7,
          5.1,
          4.9,
          4.2,
          6.1,
          6.4,
          4.9,
          4.9,
          6.2,
          4.2,
          5.7,
          7.9,
          12.2,
          5.8,
          5.3,
          5.4,
          4.7,
          4.6,
          5.4,
          4.3,
          4.5,
          5.2,
          6.2,
          5.1,
          3.9,
          5,
          5.4,
          4.5,
          5.1,
          4.7,
          4,
          5.4,
          4.5,
          3.6,
          5.2,
          4.9,
          6.2,
          4.3,
          5,
          5.1,
          5.6,
          4.3,
          5.8,
          4,
          4.7,
          5.9,
          5.3,
          4.2,
          5.3,
          5.7,
          4.4,
          4.1,
          5.8,
          5,
          6.9,
          5.4,
          5.3,
          5.5,
          6.5,
          4.7,
          5.1,
          5.7,
          5.4,
          8.7,
          4.9,
          4.7,
          6.3,
          5.1,
          6,
          4.6,
          5.8,
          5.1,
          5.8,
          4.6,
          5.6,
          4.6,
          6.3,
          5.5,
          4.3,
          5.6,
          4.3,
          5.7,
          6.4,
          4.5,
          4.5,
          6,
          5.1,
          6,
          4.5,
          6.1,
          4.7,
          4.2,
          4.8,
          4.1,
          4.5,
          4.8,
          4.6,
          7.4,
          5.6,
          4.9,
          3.8,
          4.5,
          4.1,
          5.3,
          4.7,
          9,
          6.3,
          3.6,
          3.7,
          11.5,
          5,
          5.5,
          4.7,
          4.5,
          4.4,
          4.1,
          4.4,
          4.6,
          4.4,
          4,
          5,
          5.2,
          4,
          5.1,
          4.5,
          4.6,
          5.1,
          5.7,
          4.8,
          6.2,
          5,
          5,
          4.6,
          4.9,
          4.1,
          4.5,
          4.4,
          4.5,
          4.5,
          3.9,
          4.6,
          3.8,
          4.5,
          4.4,
          4.3,
          4,
          3.9,
          5,
          4.1,
          4.1,
          5.6,
          4.1,
          4.6,
          4.9,
          4.5,
          4.1,
          4.1,
          4.5,
          4.2,
          3.9,
          5,
          4.4,
          4.5,
          3.8,
          5.1,
          3.9,
          5.3,
          4.2,
          4.3,
          4,
          4.7,
          4,
          4.3,
          5.3,
          5.2,
          4.9,
          4.7,
          4.6,
          5.3,
          3.6,
          4.2,
          4.1,
          4,
          3.9,
          4.3,
          4.8,
          4.1,
          4,
          3.7,
          4.3,
          5.2,
          4.2,
          5,
          5,
          4.2,
          4.8,
          4.1,
          4.9,
          4.3,
          3.9,
          4.5,
          4.1,
          5,
          4,
          4.5,
          3.6,
          4.1,
          3.9,
          6.6,
          4,
          3.7,
          4.3,
          4.1,
          4.4,
          3.8,
          5,
          3.7,
          3.7,
          3.7,
          4.3,
          3.8,
          4.6,
          5
         ],
         "y0": " ",
         "yaxis": "y"
        }
       ],
       "layout": {
        "boxmode": "overlay",
        "legend": {
         "title": {
          "text": "gas_type"
         },
         "tracegroupgap": 0
        },
        "margin": {
         "t": 60
        },
        "template": {
         "data": {
          "bar": [
           {
            "error_x": {
             "color": "#2a3f5f"
            },
            "error_y": {
             "color": "#2a3f5f"
            },
            "marker": {
             "line": {
              "color": "#E5ECF6",
              "width": 0.5
             },
             "pattern": {
              "fillmode": "overlay",
              "size": 10,
              "solidity": 0.2
             }
            },
            "type": "bar"
           }
          ],
          "barpolar": [
           {
            "marker": {
             "line": {
              "color": "#E5ECF6",
              "width": 0.5
             },
             "pattern": {
              "fillmode": "overlay",
              "size": 10,
              "solidity": 0.2
             }
            },
            "type": "barpolar"
           }
          ],
          "carpet": [
           {
            "aaxis": {
             "endlinecolor": "#2a3f5f",
             "gridcolor": "white",
             "linecolor": "white",
             "minorgridcolor": "white",
             "startlinecolor": "#2a3f5f"
            },
            "baxis": {
             "endlinecolor": "#2a3f5f",
             "gridcolor": "white",
             "linecolor": "white",
             "minorgridcolor": "white",
             "startlinecolor": "#2a3f5f"
            },
            "type": "carpet"
           }
          ],
          "choropleth": [
           {
            "colorbar": {
             "outlinewidth": 0,
             "ticks": ""
            },
            "type": "choropleth"
           }
          ],
          "contour": [
           {
            "colorbar": {
             "outlinewidth": 0,
             "ticks": ""
            },
            "colorscale": [
             [
              0,
              "#0d0887"
             ],
             [
              0.1111111111111111,
              "#46039f"
             ],
             [
              0.2222222222222222,
              "#7201a8"
             ],
             [
              0.3333333333333333,
              "#9c179e"
             ],
             [
              0.4444444444444444,
              "#bd3786"
             ],
             [
              0.5555555555555556,
              "#d8576b"
             ],
             [
              0.6666666666666666,
              "#ed7953"
             ],
             [
              0.7777777777777778,
              "#fb9f3a"
             ],
             [
              0.8888888888888888,
              "#fdca26"
             ],
             [
              1,
              "#f0f921"
             ]
            ],
            "type": "contour"
           }
          ],
          "contourcarpet": [
           {
            "colorbar": {
             "outlinewidth": 0,
             "ticks": ""
            },
            "type": "contourcarpet"
           }
          ],
          "heatmap": [
           {
            "colorbar": {
             "outlinewidth": 0,
             "ticks": ""
            },
            "colorscale": [
             [
              0,
              "#0d0887"
             ],
             [
              0.1111111111111111,
              "#46039f"
             ],
             [
              0.2222222222222222,
              "#7201a8"
             ],
             [
              0.3333333333333333,
              "#9c179e"
             ],
             [
              0.4444444444444444,
              "#bd3786"
             ],
             [
              0.5555555555555556,
              "#d8576b"
             ],
             [
              0.6666666666666666,
              "#ed7953"
             ],
             [
              0.7777777777777778,
              "#fb9f3a"
             ],
             [
              0.8888888888888888,
              "#fdca26"
             ],
             [
              1,
              "#f0f921"
             ]
            ],
            "type": "heatmap"
           }
          ],
          "heatmapgl": [
           {
            "colorbar": {
             "outlinewidth": 0,
             "ticks": ""
            },
            "colorscale": [
             [
              0,
              "#0d0887"
             ],
             [
              0.1111111111111111,
              "#46039f"
             ],
             [
              0.2222222222222222,
              "#7201a8"
             ],
             [
              0.3333333333333333,
              "#9c179e"
             ],
             [
              0.4444444444444444,
              "#bd3786"
             ],
             [
              0.5555555555555556,
              "#d8576b"
             ],
             [
              0.6666666666666666,
              "#ed7953"
             ],
             [
              0.7777777777777778,
              "#fb9f3a"
             ],
             [
              0.8888888888888888,
              "#fdca26"
             ],
             [
              1,
              "#f0f921"
             ]
            ],
            "type": "heatmapgl"
           }
          ],
          "histogram": [
           {
            "marker": {
             "pattern": {
              "fillmode": "overlay",
              "size": 10,
              "solidity": 0.2
             }
            },
            "type": "histogram"
           }
          ],
          "histogram2d": [
           {
            "colorbar": {
             "outlinewidth": 0,
             "ticks": ""
            },
            "colorscale": [
             [
              0,
              "#0d0887"
             ],
             [
              0.1111111111111111,
              "#46039f"
             ],
             [
              0.2222222222222222,
              "#7201a8"
             ],
             [
              0.3333333333333333,
              "#9c179e"
             ],
             [
              0.4444444444444444,
              "#bd3786"
             ],
             [
              0.5555555555555556,
              "#d8576b"
             ],
             [
              0.6666666666666666,
              "#ed7953"
             ],
             [
              0.7777777777777778,
              "#fb9f3a"
             ],
             [
              0.8888888888888888,
              "#fdca26"
             ],
             [
              1,
              "#f0f921"
             ]
            ],
            "type": "histogram2d"
           }
          ],
          "histogram2dcontour": [
           {
            "colorbar": {
             "outlinewidth": 0,
             "ticks": ""
            },
            "colorscale": [
             [
              0,
              "#0d0887"
             ],
             [
              0.1111111111111111,
              "#46039f"
             ],
             [
              0.2222222222222222,
              "#7201a8"
             ],
             [
              0.3333333333333333,
              "#9c179e"
             ],
             [
              0.4444444444444444,
              "#bd3786"
             ],
             [
              0.5555555555555556,
              "#d8576b"
             ],
             [
              0.6666666666666666,
              "#ed7953"
             ],
             [
              0.7777777777777778,
              "#fb9f3a"
             ],
             [
              0.8888888888888888,
              "#fdca26"
             ],
             [
              1,
              "#f0f921"
             ]
            ],
            "type": "histogram2dcontour"
           }
          ],
          "mesh3d": [
           {
            "colorbar": {
             "outlinewidth": 0,
             "ticks": ""
            },
            "type": "mesh3d"
           }
          ],
          "parcoords": [
           {
            "line": {
             "colorbar": {
              "outlinewidth": 0,
              "ticks": ""
             }
            },
            "type": "parcoords"
           }
          ],
          "pie": [
           {
            "automargin": true,
            "type": "pie"
           }
          ],
          "scatter": [
           {
            "fillpattern": {
             "fillmode": "overlay",
             "size": 10,
             "solidity": 0.2
            },
            "type": "scatter"
           }
          ],
          "scatter3d": [
           {
            "line": {
             "colorbar": {
              "outlinewidth": 0,
              "ticks": ""
             }
            },
            "marker": {
             "colorbar": {
              "outlinewidth": 0,
              "ticks": ""
             }
            },
            "type": "scatter3d"
           }
          ],
          "scattercarpet": [
           {
            "marker": {
             "colorbar": {
              "outlinewidth": 0,
              "ticks": ""
             }
            },
            "type": "scattercarpet"
           }
          ],
          "scattergeo": [
           {
            "marker": {
             "colorbar": {
              "outlinewidth": 0,
              "ticks": ""
             }
            },
            "type": "scattergeo"
           }
          ],
          "scattergl": [
           {
            "marker": {
             "colorbar": {
              "outlinewidth": 0,
              "ticks": ""
             }
            },
            "type": "scattergl"
           }
          ],
          "scattermapbox": [
           {
            "marker": {
             "colorbar": {
              "outlinewidth": 0,
              "ticks": ""
             }
            },
            "type": "scattermapbox"
           }
          ],
          "scatterpolar": [
           {
            "marker": {
             "colorbar": {
              "outlinewidth": 0,
              "ticks": ""
             }
            },
            "type": "scatterpolar"
           }
          ],
          "scatterpolargl": [
           {
            "marker": {
             "colorbar": {
              "outlinewidth": 0,
              "ticks": ""
             }
            },
            "type": "scatterpolargl"
           }
          ],
          "scatterternary": [
           {
            "marker": {
             "colorbar": {
              "outlinewidth": 0,
              "ticks": ""
             }
            },
            "type": "scatterternary"
           }
          ],
          "surface": [
           {
            "colorbar": {
             "outlinewidth": 0,
             "ticks": ""
            },
            "colorscale": [
             [
              0,
              "#0d0887"
             ],
             [
              0.1111111111111111,
              "#46039f"
             ],
             [
              0.2222222222222222,
              "#7201a8"
             ],
             [
              0.3333333333333333,
              "#9c179e"
             ],
             [
              0.4444444444444444,
              "#bd3786"
             ],
             [
              0.5555555555555556,
              "#d8576b"
             ],
             [
              0.6666666666666666,
              "#ed7953"
             ],
             [
              0.7777777777777778,
              "#fb9f3a"
             ],
             [
              0.8888888888888888,
              "#fdca26"
             ],
             [
              1,
              "#f0f921"
             ]
            ],
            "type": "surface"
           }
          ],
          "table": [
           {
            "cells": {
             "fill": {
              "color": "#EBF0F8"
             },
             "line": {
              "color": "white"
             }
            },
            "header": {
             "fill": {
              "color": "#C8D4E3"
             },
             "line": {
              "color": "white"
             }
            },
            "type": "table"
           }
          ]
         },
         "layout": {
          "annotationdefaults": {
           "arrowcolor": "#2a3f5f",
           "arrowhead": 0,
           "arrowwidth": 1
          },
          "autotypenumbers": "strict",
          "coloraxis": {
           "colorbar": {
            "outlinewidth": 0,
            "ticks": ""
           }
          },
          "colorscale": {
           "diverging": [
            [
             0,
             "#8e0152"
            ],
            [
             0.1,
             "#c51b7d"
            ],
            [
             0.2,
             "#de77ae"
            ],
            [
             0.3,
             "#f1b6da"
            ],
            [
             0.4,
             "#fde0ef"
            ],
            [
             0.5,
             "#f7f7f7"
            ],
            [
             0.6,
             "#e6f5d0"
            ],
            [
             0.7,
             "#b8e186"
            ],
            [
             0.8,
             "#7fbc41"
            ],
            [
             0.9,
             "#4d9221"
            ],
            [
             1,
             "#276419"
            ]
           ],
           "sequential": [
            [
             0,
             "#0d0887"
            ],
            [
             0.1111111111111111,
             "#46039f"
            ],
            [
             0.2222222222222222,
             "#7201a8"
            ],
            [
             0.3333333333333333,
             "#9c179e"
            ],
            [
             0.4444444444444444,
             "#bd3786"
            ],
            [
             0.5555555555555556,
             "#d8576b"
            ],
            [
             0.6666666666666666,
             "#ed7953"
            ],
            [
             0.7777777777777778,
             "#fb9f3a"
            ],
            [
             0.8888888888888888,
             "#fdca26"
            ],
            [
             1,
             "#f0f921"
            ]
           ],
           "sequentialminus": [
            [
             0,
             "#0d0887"
            ],
            [
             0.1111111111111111,
             "#46039f"
            ],
            [
             0.2222222222222222,
             "#7201a8"
            ],
            [
             0.3333333333333333,
             "#9c179e"
            ],
            [
             0.4444444444444444,
             "#bd3786"
            ],
            [
             0.5555555555555556,
             "#d8576b"
            ],
            [
             0.6666666666666666,
             "#ed7953"
            ],
            [
             0.7777777777777778,
             "#fb9f3a"
            ],
            [
             0.8888888888888888,
             "#fdca26"
            ],
            [
             1,
             "#f0f921"
            ]
           ]
          },
          "colorway": [
           "#636efa",
           "#EF553B",
           "#00cc96",
           "#ab63fa",
           "#FFA15A",
           "#19d3f3",
           "#FF6692",
           "#B6E880",
           "#FF97FF",
           "#FECB52"
          ],
          "font": {
           "color": "#2a3f5f"
          },
          "geo": {
           "bgcolor": "white",
           "lakecolor": "white",
           "landcolor": "#E5ECF6",
           "showlakes": true,
           "showland": true,
           "subunitcolor": "white"
          },
          "hoverlabel": {
           "align": "left"
          },
          "hovermode": "closest",
          "mapbox": {
           "style": "light"
          },
          "paper_bgcolor": "white",
          "plot_bgcolor": "#E5ECF6",
          "polar": {
           "angularaxis": {
            "gridcolor": "white",
            "linecolor": "white",
            "ticks": ""
           },
           "bgcolor": "#E5ECF6",
           "radialaxis": {
            "gridcolor": "white",
            "linecolor": "white",
            "ticks": ""
           }
          },
          "scene": {
           "xaxis": {
            "backgroundcolor": "#E5ECF6",
            "gridcolor": "white",
            "gridwidth": 2,
            "linecolor": "white",
            "showbackground": true,
            "ticks": "",
            "zerolinecolor": "white"
           },
           "yaxis": {
            "backgroundcolor": "#E5ECF6",
            "gridcolor": "white",
            "gridwidth": 2,
            "linecolor": "white",
            "showbackground": true,
            "ticks": "",
            "zerolinecolor": "white"
           },
           "zaxis": {
            "backgroundcolor": "#E5ECF6",
            "gridcolor": "white",
            "gridwidth": 2,
            "linecolor": "white",
            "showbackground": true,
            "ticks": "",
            "zerolinecolor": "white"
           }
          },
          "shapedefaults": {
           "line": {
            "color": "#2a3f5f"
           }
          },
          "ternary": {
           "aaxis": {
            "gridcolor": "white",
            "linecolor": "white",
            "ticks": ""
           },
           "baxis": {
            "gridcolor": "white",
            "linecolor": "white",
            "ticks": ""
           },
           "bgcolor": "#E5ECF6",
           "caxis": {
            "gridcolor": "white",
            "linecolor": "white",
            "ticks": ""
           }
          },
          "title": {
           "x": 0.05
          },
          "xaxis": {
           "automargin": true,
           "gridcolor": "white",
           "linecolor": "white",
           "ticks": "",
           "title": {
            "standoff": 15
           },
           "zerolinecolor": "white",
           "zerolinewidth": 2
          },
          "yaxis": {
           "automargin": true,
           "gridcolor": "white",
           "linecolor": "white",
           "ticks": "",
           "title": {
            "standoff": 15
           },
           "zerolinecolor": "white",
           "zerolinewidth": 2
          }
         }
        },
        "title": {
         "text": "Boxplot del Consumo de Gasolina por Tipo de Gasolina"
        },
        "xaxis": {
         "anchor": "y",
         "categoryarray": [
          "E10",
          "SP98"
         ],
         "categoryorder": "array",
         "domain": [
          0,
          1
         ],
         "title": {
          "text": "gas_type"
         }
        },
        "yaxis": {
         "anchor": "x",
         "domain": [
          0,
          1
         ],
         "title": {
          "text": "consume"
         }
        }
       }
      }
     },
     "metadata": {},
     "output_type": "display_data"
    }
   ],
   "source": [
    "# Boxplot del Consumo de Gasolina por Tipo de Gasolina\n",
    "fig_consume_by_gas = px.box(data, x=\"gas_type\", y=\"consume\", color=\"gas_type\", color_discrete_sequence=px.colors.qualitative.Dark2)\n",
    "fig_consume_by_gas.update_layout(title=\"Boxplot del Consumo de Gasolina por Tipo de Gasolina\")\n",
    "fig_consume_by_gas.show()"
   ]
  },
  {
   "cell_type": "code",
   "execution_count": 108,
   "id": "4a3e0f40",
   "metadata": {},
   "outputs": [],
   "source": [
    "# Interacción entre AC y Lluvia en el Consumo de Gasolina\n",
    "data[\"rain\"] = data[\"rain\"].astype(\"category\")\n",
    "data[\"AC\"] = data[\"AC\"].astype(\"category\")\n",
    "\n",
    "fig_interaction_check = make_subplots(rows=1, cols=2)"
   ]
  },
  {
   "cell_type": "code",
   "execution_count": 111,
   "id": "7804adb9",
   "metadata": {},
   "outputs": [
    {
     "ename": "SyntaxError",
     "evalue": "EOF while scanning triple-quoted string literal (2093558415.py, line 4)",
     "output_type": "error",
     "traceback": [
      "\u001b[0;36m  File \u001b[0;32m\"/var/folders/sw/ywfjlc8d22902gxr8wwrsfnw0000gn/T/ipykernel_79475/2093558415.py\"\u001b[0;36m, line \u001b[0;32m4\u001b[0m\n\u001b[0;31m    fig_interaction_check.update_yaxes(title_text=\"Consumo de Gasolina\", row=1, col=1)\u001b[0m\n\u001b[0m                                                                                      \n^\u001b[0m\n\u001b[0;31mSyntaxError\u001b[0m\u001b[0;31m:\u001b[0m EOF while scanning triple-quoted string literal\n"
     ]
    }
   ],
   "source": [
    "'''ArithmeticError# Gráfico de Interacción AC y Lluvia 1\n",
    "fig_interaction_check.add_trace(go.scatter(data, x=\"AC\", y=\"consume\", color=\"rain\"), row=1, col=1)\n",
    "fig_interaction_check.update_xaxes(title_text=\"AC\", row=1, col=1)\n",
    "fig_interaction_check.update_yaxes(title_text=\"Consumo de Gasolina\", row=1, col=1)\n"
   ]
  },
  {
   "cell_type": "code",
   "execution_count": null,
   "id": "bfe31873",
   "metadata": {},
   "outputs": [],
   "source": []
  },
  {
   "cell_type": "code",
   "execution_count": null,
   "id": "74d215de",
   "metadata": {},
   "outputs": [],
   "source": []
  }
 ],
 "metadata": {
  "kernelspec": {
   "display_name": "Python 3 (ipykernel)",
   "language": "python",
   "name": "python3"
  },
  "language_info": {
   "codemirror_mode": {
    "name": "ipython",
    "version": 3
   },
   "file_extension": ".py",
   "mimetype": "text/x-python",
   "name": "python",
   "nbconvert_exporter": "python",
   "pygments_lexer": "ipython3",
   "version": "3.9.13"
  }
 },
 "nbformat": 4,
 "nbformat_minor": 5
}
